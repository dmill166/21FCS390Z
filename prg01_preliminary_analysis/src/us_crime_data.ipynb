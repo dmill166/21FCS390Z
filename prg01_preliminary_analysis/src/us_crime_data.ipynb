{
 "cells": [
  {
   "cell_type": "markdown",
   "metadata": {
    "id": "zGP6D8csr_tF"
   },
   "source": [
    "# Preamble\n",
    "\n",
    "Title: *FBI Crime Data (Murders, by state and weapon) (2019)*\n",
    "\n",
    "Author: *Dakota M. Miller*\n",
    "\n",
    "Email: *dmil166 @ msudenver.edu*\n",
    "\n",
    "Last Update: *2021-10-02*\n"
   ]
  },
  {
   "cell_type": "markdown",
   "source": [
    "# Introduction\n",
    "\n",
    "This report presents the preliminary results of an analysis of crime data in the United States in 2019. Data for this report was obtained from information published annually by the Federal Bureau of Investigation. An additional similarity analysis was generated comparing total murders by state to state population to test a theory that these two datasets are positively correlated."
   ],
   "metadata": {
    "collapsed": false
   }
  },
  {
   "cell_type": "markdown",
   "source": [
    "# Dataset\n",
    "\n",
    "The dataset for this report was built from information published at [FBI Crime Data](https://ucr.fbi.gov/crime-in-the-u.s/2019/crime-in-the-u.s.-2019/topic-pages/tables/table-20) and [Census.gov](https://www.census.gov/newsroom/press-kits/2019/national-state-estimates.html). Web-scraping techniques were employed to compile murders by state and weapons for annual reported crimes in the year 2019. Murder data declarations include:\n",
    "\n",
    "1. Total number of murders for which supplemental homicide data were received.\n",
    "2. Pushed is included in hands, fists, feet, etc.\n",
    "3. Limited data for 2019 were available for Alabama.\n",
    "4. Data submitted through the Bureau of Indian Affairs.\n",
    "5. Limited supplemental homicide data were received.\n",
    "6. Puerto Rico is included in both data sets (as a major US Territory)\n",
    "\n",
    "The script below automatically extracts annual reported murders in the year 2019. The information is sourced from an HTML table and stored in a Python lists of lists with the following structure:\n",
    "\n",
    "```\n",
    "[\n",
    "State,Handguns,Rifles,Shotguns,\"Firearms (type unknown)\",\"Knives or cutting instruments\",\"Other weapons\",\"Hands|fists|feet, etc.\"\n",
    "Alabama,3,0,0,0,0,1,0\n",
    "Alaska,17,1,6,20,8,5,12\n",
    "...\n",
    "Wyoming,7,0,0,2,3,0,1\n",
    "]\n",
    "```\n",
    "\n",
    "The population data (obtained through CSV interaction) for the scatter plot analysis has the following structure (note: only 2019 will be used):\n",
    "```\n",
    "[\n",
    "Category,Subcategory,2010,2011,2012,2013,2014,2015,2016,2017,2018,2019\n",
    "Nation,United States,\"309,321,666\",\"311,556,874\",\"313,830,990\",\"315,993,715\",\"318,301,008\",\"320,635,163\",\"322,941,311\",\"324,985,539\",\"326,687,501\",\"328,239,523\"\n",
    "Region,Northeast,\"55,380,134\",\"55,604,223\",\"55,775,216\",\"55,901,806\",\"56,006,011\",\"56,034,684\",\"56,042,330\",\"56,059,240\",\"56,046,620\",\"55,982,803\"\n",
    "Region,Midwest,\"66,974,416\",\"67,157,800\",\"67,336,743\",\"67,560,379\",\"67,745,167\",\"67,860,583\",\"67,987,540\",\"68,126,781\",\"68,236,628\",\"68,329,004\"\n",
    "Region,South,\"114,866,680\",\"116,006,522\",\"117,241,208\",\"118,364,400\",\"119,624,037\",\"120,997,341\",\"122,351,760\",\"123,542,189\",\"124,569,433\",\"125,580,448\"\n",
    "Region,West,\"72,100,436\",\"72,788,329\",\"73,477,823\",\"74,167,130\",\"74,925,793\",\"75,742,555\",\"76,559,681\",\"77,257,329\",\"77,834,820\",\"78,347,268\"\n",
    "State,Alabama,\"4,785,437\",\"4,799,069\",\"4,815,588\",\"4,830,081\",\"4,841,799\",\"4,852,347\",\"4,863,525\",\"4,874,486\",\"4,887,681\",\"4,903,185\"\n",
    "State,Alaska,\"713\n",
    "...\n",
    "State,Wyoming,\"564,487\",\"567,299\",\"576,305\",\"582,122\",\"582,531\",\"585,613\",\"584,215\",\"578,931\",\"577,601\",\"578,759\"\n",
    "]\n",
    "```"
   ],
   "metadata": {
    "collapsed": false
   }
  },
  {
   "cell_type": "markdown",
   "metadata": {
    "id": "t4hNO_y-r8qS",
    "pycharm": {
     "name": "#%% md\n"
    }
   },
   "source": [
    "CS390Z - Introduction to Data Mining - Fall 2021\n",
    "\n",
    "Student: Dakota M. Miller\n",
    "\n",
    "Description: Configuration & Data Collection"
   ]
  },
  {
   "cell_type": "markdown",
   "metadata": {},
   "source": [
    "### Library Imports"
   ]
  },
  {
   "cell_type": "code",
   "execution_count": 1,
   "metadata": {
    "pycharm": {
     "name": "#%%\n"
    }
   },
   "outputs": [],
   "source": [
    "from bs4 import BeautifulSoup\n",
    "import csv\n",
    "import math\n",
    "import matplotlib.pyplot as plt\n",
    "import numpy as np\n",
    "import os\n",
    "import requests\n",
    "from sklearn.metrics import r2_score\n",
    "import statistics as stats\n",
    "import sys\n",
    "import wordninja"
   ]
  },
  {
   "cell_type": "markdown",
   "metadata": {},
   "source": [
    "### Definitions/Parameters"
   ]
  },
  {
   "cell_type": "code",
   "execution_count": 2,
   "metadata": {
    "pycharm": {
     "name": "#%%\n"
    }
   },
   "outputs": [],
   "source": [
    "os.chdir(globals()['_dh'][0])\n",
    "os.chdir('../')\n",
    "DATA_FOLDER = os.path.join(os.getcwd(), 'data')\n",
    "CENSUS_FILE_NAME = 'census_data.csv'\n",
    "CENSUS_FILE_PATH = os.path.join(DATA_FOLDER, CENSUS_FILE_NAME)\n",
    "BASE_YEAR = 2019\n",
    "BASE_URL = 'https://ucr.fbi.gov/crime-in-the-u.s/2019/crime-in-the-u.s.-2019/topic-pages/tables/table-20'\n",
    "HEADERS = {\"User-Agent\": \"Mozilla/5.0 (X11; CrOS x86_64 12871.102.0) AppleWebKit/537.36 (KHTML, like Gecko) \"\n",
    "                         \"Chrome/81.0.4044.141 Safari/537.36\"}"
   ]
  },
  {
   "cell_type": "markdown",
   "metadata": {},
   "source": [
    "### Resources"
   ]
  },
  {
   "cell_type": "code",
   "execution_count": 3,
   "metadata": {
    "pycharm": {
     "name": "#%%\n"
    }
   },
   "outputs": [],
   "source": [
    "#   https://www.pythonpool.com/python-check-if-string-is-integer/\n",
    "#   http://python-notes.curiousefficiency.org/en/latest/python3/text_file_processing.html#what-changed-in-python-3\n",
    "#   https://www.kite.com/python/answers/how-to-remove-a-comma-from-a-string-in-python\n",
    "#   https://www.pluralsight.com/guides/extracting-data-html-beautifulsoup\n",
    "#   https://www.crummy.com/software/BeautifulSoup/bs4/doc/#attributes\n",
    "#   https://stackoverflow.com/questions/8870261/how-to-split-text-without-spaces-into-list-of-words\n",
    "#   https://www.geeksforgeeks.org/python-string-join-method/\n",
    "#   https://stackoverflow.com/questions/5193811/how-can-i-check-for-a-new-line-in-string-in-python-3-x\n",
    "#   https://msudenver.instructure.com/courses/47959/pages/cs-390z-matplotlib\n",
    "#   https://stackoverflow.com/questions/6473679/transpose-list-of-lists\n",
    "#   https://stackabuse.com/rotate-axis-labels-in-matplotlib/\n",
    "#   https://www.educative.io/edpresso/how-to-emulate-a-do-while-loop-in-python\n",
    "#   https://stackoverflow.com/questions/26785354/normalizing-a-list-of-numbers-in-python\n",
    "#   https://www.geeksforgeeks.org/creating-pandas-dataframe-using-list-of-lists/"
   ]
  },
  {
   "cell_type": "markdown",
   "metadata": {},
   "source": [
    "### Data Collection - Crime Data"
   ]
  },
  {
   "cell_type": "code",
   "execution_count": 4,
   "metadata": {
    "pycharm": {
     "name": "#%%\n"
    }
   },
   "outputs": [
    {
     "name": "stderr",
     "output_type": "stream",
     "text": [
      "/Library/Frameworks/Python.framework/Versions/3.8/lib/python3.8/site-packages/urllib3/connectionpool.py:1013: InsecureRequestWarning: Unverified HTTPS request is being made to host 'ucr.fbi.gov'. Adding certificate verification is strongly advised. See: https://urllib3.readthedocs.io/en/1.26.x/advanced-usage.html#ssl-warnings\n",
      "  warnings.warn(\n"
     ]
    }
   ],
   "source": [
    "# Make a GET request to fetch the raw HTML content\n",
    "html_content = requests.get(BASE_URL, verify=False).text\n",
    "\n",
    "# Parse the html content\n",
    "soup = BeautifulSoup(html_content, \"html.parser\")\n",
    "table_data = soup.find('table').text.strip()\n",
    "table_header_text, table_body_text = table_data.split('\\n\\n\\n\\n\\n\\n\\n')\n",
    "\n",
    "crime_col_headers = list(table_header_text.replace('\\n\\n\\n', '\\n\\n').split('\\n\\n'))\n",
    "for compound_headers_index in range(len(crime_col_headers)):\n",
    "    word_sep = ' '\n",
    "    crime_col_headers[compound_headers_index] = word_sep.join(\n",
    "        wordninja.split(crime_col_headers[compound_headers_index]))\n",
    "for header_index in range(len(crime_col_headers)):\n",
    "    if crime_col_headers[header_index][-1].isdigit():\n",
    "        crime_col_headers[header_index] = crime_col_headers[header_index][0:-1].title()\n",
    "    else:\n",
    "        crime_col_headers[header_index] = crime_col_headers[header_index].title()\n",
    "\n",
    "all_crime_rows = list(table_body_text.replace('\\n\\n\\n', '\\n\\n').split('\\n\\n'))\n",
    "\n",
    "crime_row_headers = []\n",
    "new_state_row = []\n",
    "crime_data = []\n",
    "crime_state_total = []\n",
    "crime_state_firearm_total = []\n",
    "for element in all_crime_rows:\n",
    "    if element.strip().replace(' ', '').isalnum() and not element.replace(',', '').isdigit():\n",
    "        if element[-1].isdigit():\n",
    "            new_state_row = [element[0:-1].strip()]\n",
    "        else:\n",
    "            new_state_row = [element.strip()]\n",
    "    elif element.replace(',', '').isdigit():\n",
    "        new_state_row.append(int(element.replace(',', '')))\n",
    "    else:\n",
    "        print(\"I don't know that data type! Abort mission!\")\n",
    "        sys.exit(0)\n",
    "\n",
    "    if len(new_state_row) == 10:\n",
    "        crime_row_headers.append(new_state_row[0])\n",
    "        crime_state_total.append(new_state_row[1])\n",
    "        crime_state_firearm_total.append(new_state_row[2])\n",
    "        crime_data.append(new_state_row[3:])"
   ]
  },
  {
   "cell_type": "markdown",
   "metadata": {},
   "source": [
    "### Data Collection - Census Data"
   ]
  },
  {
   "cell_type": "code",
   "execution_count": 5,
   "metadata": {
    "pycharm": {
     "name": "#%%\n"
    }
   },
   "outputs": [],
   "source": [
    "census_data = []\n",
    "census_col_headers = []\n",
    "census_regions = []\n",
    "census_subcategories = []\n",
    "census_states = []\n",
    "census_data_BASE_YEAR = []\n",
    "with open(CENSUS_FILE_PATH, 'rt', encoding='utf-8') as csv_file:\n",
    "    reader = csv.reader(csv_file)\n",
    "    row_count = 0\n",
    "    for row in reader:\n",
    "        index = 0\n",
    "        census_state_data = []\n",
    "        row_count += 1\n",
    "        if row_count == 1:\n",
    "            for item in row:\n",
    "                census_col_headers.append(str(item))\n",
    "        else:\n",
    "            for item in row:\n",
    "                if index == 0:\n",
    "                    census_regions.append(item)\n",
    "                elif index == 1:\n",
    "                    census_subcategories.append(item)\n",
    "                else:\n",
    "                    census_state_data.append(int(item.replace(',', '')))\n",
    "                index += 1\n",
    "            if census_regions[-1] == 'State':\n",
    "                census_states.append(census_subcategories[-1])\n",
    "                census_data_BASE_YEAR.append(census_state_data[-1])\n",
    "            census_data.append(census_state_data)\n"
   ]
  },
  {
   "cell_type": "markdown",
   "metadata": {
    "id": "-hR8RFxtJCrl"
   },
   "source": [
    "# Summary Statistics\n"
   ]
  },
  {
   "cell_type": "markdown",
   "metadata": {},
   "source": [
    "CS390Z - Introduction to Data Mining - Fall 2021\n",
    "\n",
    "Student: Dakota M. Miller\n",
    "\n",
    "Description: Summary Statistics"
   ]
  },
  {
   "cell_type": "markdown",
   "metadata": {},
   "source": [
    "## Murder Data"
   ]
  },
  {
   "cell_type": "code",
   "execution_count": 6,
   "metadata": {
    "colab": {
     "base_uri": "https://localhost:8080/",
     "height": 0
    },
    "executionInfo": {
     "elapsed": 138,
     "status": "ok",
     "timestamp": 1630967369306,
     "user": {
      "displayName": "Thyago Mota",
      "photoUrl": "https://lh3.googleusercontent.com/a-/AOh14GgUxgd0gThNMKKmMMtn9jjjNSCh-wlWwiS5ZCZDtw=s64",
      "userId": "11657853989846995098"
     },
     "user_tz": 360
    },
    "id": "tUH0I8nALp36",
    "outputId": "b312ceb6-5327-4abc-8864-a8398aa426cc"
   },
   "outputs": [
    {
     "name": "stdout",
     "output_type": "stream",
     "text": [
      "*** Summary Statistics of 2019 Crimes Data ***\n",
      "#records: 51\n",
      "Count of Crimes Range: [1 , 1,679]\n",
      "Count of Crimes Mean: 273.08\n",
      "Count of Crimes Median: 166\n",
      "Count of Crimes StD: 325.81\n"
     ]
    }
   ],
   "source": [
    "crimes_total_array = np.array(crime_state_total)\n",
    "print('*** Summary Statistics of ' + str(BASE_YEAR) + ' Crimes Data ***')\n",
    "crime_records = '{:,.0f}'.format(len(crime_state_total))\n",
    "print(f'#records: {crime_records}')\n",
    "crimes_minimum = '{:,.0f}'.format(np.min(crimes_total_array))\n",
    "crimes_maximum = '{:,.0f}'.format(np.max(crimes_total_array))\n",
    "print(f'Count of Crimes Range: [{crimes_minimum} , {crimes_maximum}]')\n",
    "crimes_mean = '{:,.2f}'.format(np.mean(crimes_total_array))\n",
    "print(f'Count of Crimes Mean: {crimes_mean}')\n",
    "crimes_median = '{:,.0f}'.format(np.median(crimes_total_array))\n",
    "print(f'Count of Crimes Median: {crimes_median}')\n",
    "crimes_std = '{:,.2f}'.format(np.std(crimes_total_array))\n",
    "print(f'Count of Crimes StD: {crimes_std}')"
   ]
  },
  {
   "cell_type": "markdown",
   "metadata": {},
   "source": [
    "## Census Data"
   ]
  },
  {
   "cell_type": "code",
   "execution_count": 7,
   "metadata": {
    "pycharm": {
     "name": "#%%\n"
    }
   },
   "outputs": [
    {
     "name": "stdout",
     "output_type": "stream",
     "text": [
      "\n",
      "*** Summary Statistics of 2019 Census Data ***\n",
      "#records: 51\n",
      "2019 Census Range: [578,759 , 39,512,223]\n",
      "2019 Census Mean: 6,436,069.08\n",
      "2019 Census Median: 4,467,673\n",
      "2019 Census StD: 7,288,139.88\n",
      "\n",
      "\n"
     ]
    }
   ],
   "source": [
    "census_totals_BASE_YEAR_array = np.array(census_data_BASE_YEAR)\n",
    "print('\\n*** Summary Statistics of ' + str(BASE_YEAR) + ' Census Data ***')\n",
    "census_records = '{:,.0f}'.format(len(census_states))\n",
    "print(f'#records: {census_records}')\n",
    "census_minimum = '{:,.0f}'.format(np.min(census_totals_BASE_YEAR_array))\n",
    "census_maximum = '{:,.0f}'.format(np.max(census_totals_BASE_YEAR_array))\n",
    "print(f'{str(BASE_YEAR)} Census Range: [{census_minimum} , {census_maximum}]')\n",
    "census_mean = '{:,.2f}'.format(np.mean(census_totals_BASE_YEAR_array))\n",
    "print(f'{str(BASE_YEAR)} Census Mean: {census_mean}')\n",
    "census_median = '{:,.0f}'.format(np.median(census_totals_BASE_YEAR_array))\n",
    "print(f'{str(BASE_YEAR)} Census Median: {census_median}')\n",
    "census_std = '{:,.2f}'.format(np.std(census_totals_BASE_YEAR_array))\n",
    "print(f'{str(BASE_YEAR)} Census StD: {census_std}\\n\\n')"
   ]
  },
  {
   "cell_type": "markdown",
   "metadata": {
    "id": "0C07VKkXPGcL"
   },
   "source": [
    "# Visualizations"
   ]
  },
  {
   "cell_type": "markdown",
   "metadata": {},
   "source": [
    "CS390Z - Introduction to Data Mining - Fall 2021\n",
    "\n",
    "Student: Dakota M. Miller\n",
    "\n",
    "Description: Data Visualizations"
   ]
  },
  {
   "cell_type": "markdown",
   "metadata": {},
   "source": [
    "## Histogram"
   ]
  },
  {
   "cell_type": "code",
   "execution_count": 8,
   "metadata": {
    "colab": {
     "base_uri": "https://localhost:8080/",
     "height": 295
    },
    "executionInfo": {
     "elapsed": 295,
     "status": "ok",
     "timestamp": 1630967908949,
     "user": {
      "displayName": "Thyago Mota",
      "photoUrl": "https://lh3.googleusercontent.com/a-/AOh14GgUxgd0gThNMKKmMMtn9jjjNSCh-wlWwiS5ZCZDtw=s64",
      "userId": "11657853989846995098"
     },
     "user_tz": 360
    },
    "id": "_oavI33iPOnc",
    "outputId": "d4fba136-eed0-460a-9f8e-41fb4fbbacd5"
   },
   "outputs": [
    {
     "data": {
      "image/png": "[encoded data removed]",
      "text/plain": [
       "<Figure size 432x288 with 1 Axes>"
      ]
     },
     "metadata": {
      "needs_background": "light"
     },
     "output_type": "display_data"
    }
   ],
   "source": [
    "BIN_SIZE = 200\n",
    "min_x_val_histogram = min(crime_state_total) // BIN_SIZE\n",
    "max_x_value_histogram = ((max(crime_state_total) // BIN_SIZE) + 2) * BIN_SIZE\n",
    "bin_list = list(range(min_x_val_histogram, max_x_value_histogram, BIN_SIZE))\n",
    "bin_label_list = []\n",
    "for x in range(len(bin_list) - 1):\n",
    "    bin_label_list.append(str(bin_list[x] / 1000) + 'K')\n",
    "\n",
    "fig, ax = plt.subplots()\n",
    "counts, bins, _ = plt.hist(\n",
    "    crime_state_total,\n",
    "    range=(min_x_val_histogram, max_x_value_histogram),\n",
    "    bins=bin_list,\n",
    "    rwidth=0.8\n",
    "\n",
    ")\n",
    "plt.xticks(np.arange(min_x_val_histogram, max_x_value_histogram, BIN_SIZE))\n",
    "\n",
    "plt.xlabel('Total Murders')\n",
    "plt.ylabel('Number of States')\n",
    "plt.title('Murders by state as reported by the FBI (' + str(BASE_YEAR) + ')')\n",
    "\n",
    "plt.show()"
   ]
  },
  {
   "cell_type": "markdown",
   "metadata": {},
   "source": [
    "## Box Plot"
   ]
  },
  {
   "cell_type": "code",
   "execution_count": 9,
   "metadata": {
    "colab": {
     "base_uri": "https://localhost:8080/",
     "height": 588
    },
    "executionInfo": {
     "elapsed": 252,
     "status": "ok",
     "timestamp": 1630968553584,
     "user": {
      "displayName": "Thyago Mota",
      "photoUrl": "https://lh3.googleusercontent.com/a-/AOh14GgUxgd0gThNMKKmMMtn9jjjNSCh-wlWwiS5ZCZDtw=s64",
      "userId": "11657853989846995098"
     },
     "user_tz": 360
    },
    "id": "8zBqplJHRNZs",
    "outputId": "2102203c-f8c8-490b-f856-f6990ac051fd"
   },
   "outputs": [
    {
     "data": {
      "image/png": "[encoded data removed]",
      "text/plain": [
       "<Figure size 432x288 with 1 Axes>"
      ]
     },
     "metadata": {
      "needs_background": "light"
     },
     "output_type": "display_data"
    }
   ],
   "source": [
    "crime_data_transpose = list(map(list, zip(*crime_data)))\n",
    "\n",
    "# Below code will remove top & bottom 10% of outliers\n",
    "# for weapon_rows in crime_data_transpose:\n",
    "#     weapon_rows_length = len(weapon_rows)\n",
    "#     outliers = weapon_rows_length // 10\n",
    "#     for iterations in range(outliers):\n",
    "#         weapon_rows.remove(min(weapon_rows))\n",
    "#         weapon_rows.remove(max(weapon_rows))\n",
    "\n",
    "BOX_PLOTS_TO_SHOW = 3\n",
    "while len(crime_data_transpose) != BOX_PLOTS_TO_SHOW:\n",
    "    for decrease_iter in range(10, 1, -1):\n",
    "        threshold = max(max(crime_data_transpose)) // decrease_iter\n",
    "        for sanity_check in crime_data_transpose:\n",
    "            if max(sanity_check) < threshold:\n",
    "                crime_data_transpose.remove(sanity_check)\n",
    "        if len(crime_data_transpose) == BOX_PLOTS_TO_SHOW:\n",
    "            break\n",
    "\n",
    "branches = crime_data_transpose\n",
    "medians = [stats.median(branch) for branch in branches]\n",
    "plt.boxplot(\n",
    "    branches\n",
    ")\n",
    "branch_labels = []\n",
    "i = 0\n",
    "for branch in branches:\n",
    "    max_value = max(branch)\n",
    "    plt.annotate(str(max_value), xy=(i + 1, max_value))\n",
    "    plt.annotate(str(medians[i]), xy=(i + 1, medians[i]))\n",
    "    branch_labels.append(crime_col_headers[i + 3])\n",
    "    i += 1\n",
    "axes = plt.gca()\n",
    "axes.spines['right'].set_visible(False)\n",
    "axes.spines['top'].set_visible(False)\n",
    "axes.set_xticklabels(branch_labels)\n",
    "plt.xlabel('Murder Weapons')\n",
    "plt.ylabel('Total Murders')\n",
    "plt.title('Top 3 Murder Weapons by State as Reported by the FBI (' + str(BASE_YEAR) + ')')\n",
    "plt.show()"
   ]
  },
  {
   "cell_type": "markdown",
   "metadata": {},
   "source": [
    "## Scatter Plot"
   ]
  },
  {
   "cell_type": "code",
   "execution_count": 10,
   "metadata": {
    "colab": {
     "base_uri": "https://localhost:8080/",
     "height": 295
    },
    "executionInfo": {
     "elapsed": 297,
     "status": "ok",
     "timestamp": 1630969936543,
     "user": {
      "displayName": "Thyago Mota",
      "photoUrl": "https://lh3.googleusercontent.com/a-/AOh14GgUxgd0gThNMKKmMMtn9jjjNSCh-wlWwiS5ZCZDtw=s64",
      "userId": "11657853989846995098"
     },
     "user_tz": 360
    },
    "id": "cvX5-jTsTZh8",
    "outputId": "b614e1d0-a4ae-4564-b003-bf91eb842c34"
   },
   "outputs": [
    {
     "name": "stdout",
     "output_type": "stream",
     "text": [
      "Coefficient of determination: 0.63\n"
     ]
    },
    {
     "name": "stderr",
     "output_type": "stream",
     "text": [
      "/var/folders/9x/v176y6kx7js27mvdnptl7hqc0000gn/T/ipykernel_24339/1787125307.py:33: UserWarning: FixedFormatter should only be used together with FixedLocator\n",
      "  axes.set_xticklabels(scatter_x_ticks)\n"
     ]
    },
    {
     "data": {
      "image/png": "[encoded data removed]",
      "text/plain": [
       "<Figure size 432x288 with 1 Axes>"
      ]
     },
     "metadata": {
      "needs_background": "light"
     },
     "output_type": "display_data"
    }
   ],
   "source": [
    "census_totals_norm = [float(i) / sum(census_data_BASE_YEAR) for i in census_data_BASE_YEAR]\n",
    "crime_totals_norm = [float(i) / sum(crime_state_total) for i in crime_state_total]\n",
    "total_crime_and_census = [crime_totals_norm, census_totals_norm]\n",
    "\n",
    "SCATTER_NUM_OF_X_TICKS = 10\n",
    "max_x_value_x_100 = int(max(total_crime_and_census[0]) * 1000)\n",
    "scatter_x_ticks = [x for x in range(0, max_x_value_x_100, int(max_x_value_x_100 / SCATTER_NUM_OF_X_TICKS))]\n",
    "for y in range(len(scatter_x_ticks)):\n",
    "    scatter_x_ticks[y] = float(scatter_x_ticks[y]) / 1000.0\n",
    "\n",
    "PERCENT_DATA_POINTS_SCRUBBED = 2\n",
    "num_scrub_points = math.ceil(len(crime_row_headers) * (PERCENT_DATA_POINTS_SCRUBBED / 100))\n",
    "\n",
    "for k in range(num_scrub_points):\n",
    "    max_crime_data_point_index = crime_totals_norm.index(max(crime_totals_norm))\n",
    "    crime_totals_norm.pop(max_crime_data_point_index)\n",
    "    census_totals_norm.pop(max_crime_data_point_index)\n",
    "\n",
    "    max_census_data_point_index = census_totals_norm.index(max(census_totals_norm))\n",
    "    crime_totals_norm.pop(max_census_data_point_index)\n",
    "    census_totals_norm.pop(max_census_data_point_index)\n",
    "\n",
    "    min_crime_data_point_index = crime_totals_norm.index(min(crime_totals_norm))\n",
    "    crime_totals_norm.pop(min_crime_data_point_index)\n",
    "    census_totals_norm.pop(min_crime_data_point_index)\n",
    "\n",
    "    min_census_data_point_index = census_totals_norm.index(min(census_totals_norm))\n",
    "    crime_totals_norm.pop(min_census_data_point_index)\n",
    "    census_totals_norm.pop(min_census_data_point_index)\n",
    "\n",
    "axes = plt.gca()\n",
    "plt.scatter(total_crime_and_census[0], total_crime_and_census[1])\n",
    "axes.set_xticklabels(scatter_x_ticks)\n",
    "plt.xlabel('Normalized State Populations')\n",
    "plt.ylabel('Normalized State Murders')\n",
    "plt.title('State Population & Murder Data (Per FBI & Census - ' + str(BASE_YEAR) + ')')\n",
    "print('Coefficient of determination: %.2f'\n",
    "      % r2_score(total_crime_and_census[0], total_crime_and_census[1]))\n",
    "plt.show()"
   ]
  }
 ],
 "metadata": {
  "colab": {
   "authorship_tag": "ABX9TyPXjacHdlVQxklpcnzlkD7e",
   "collapsed_sections": [],
   "name": "co_air_quality",
   "provenance": [],
   "toc_visible": true
  },
  "kernelspec": {
   "display_name": "PyCharm (21FCS390Z)",
   "language": "python",
   "name": "pycharm-956b2ba5"
  },
  "language_info": {
   "codemirror_mode": {
    "name": "ipython",
    "version": 3
   },
   "file_extension": ".py",
   "mimetype": "text/x-python",
   "name": "python",
   "nbconvert_exporter": "python",
   "pygments_lexer": "ipython3",
   "version": "3.8.0"
  }
 },
 "nbformat": 4,
 "nbformat_minor": 4
}