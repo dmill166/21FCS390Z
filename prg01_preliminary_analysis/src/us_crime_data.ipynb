{
 "cells": [
  {
   "cell_type": "markdown",
   "metadata": {
    "id": "zGP6D8csr_tF"
   },
   "source": [
    "# Preamble\n",
    "\n",
    "Title: *FBI Crime Data (Murders, by state and weapon) (2019)*\n",
    "\n",
    "Author: *Dakota M. Miller*\n",
    "\n",
    "Email: *dmil166 @ msudenver.edu*\n",
    "\n",
    "Last Update: *2021-09-26*\n"
   ]
  },
  {
   "cell_type": "markdown",
   "metadata": {
    "id": "nC-nqZJZJIB-"
   },
   "source": [
    "# Introduction\n",
    "\n",
    "This report presents the preliminary results of an analysis of crime data in the United States in 2019. Data for this report was obtained from information published annually by the Federal Bureau of Investigation. An additional similarity analysis was generated comparing total murders by state to state population to test a theory that these two datasets are positively correlated."
   ]
  },
  {
   "cell_type": "markdown",
   "metadata": {
    "id": "CKxaEcrHKI3E"
   },
   "source": [
    "# Dataset\n",
    "\n",
    "The dataset for this report was built from information published at [FBI Crime Data](https://ucr.fbi.gov/crime-in-the-u.s/2019/crime-in-the-u.s.-2019/topic-pages/tables/table-20) and [Census.gov](https://www.census.gov/newsroom/press-kits/2019/national-state-estimates.html). CSV reading techniques were employed to compile murders by state and weapons for annual reported crimes in the year 2019. Data declarations include:\n",
    "\n",
    "1. Total number of murders for which supplemental homicide data were received.\n",
    "2. Pushed is included in hands, fists, feet, etc.\n",
    "3. Limited data for 2019 were available for Alabama.\n",
    "4. Data submitted through the Bureau of Indian Affairs.\n",
    "5. Limited supplemental homicide data were received.\n",
    "\n",
    "The script below automatically extracts annual reported murders in the year 2019. The information is saved in a csv file (crime_data.csv) with the following structure:\n",
    "\n",
    "```\n",
    "[\n",
    "State,\"Total murders\",\"Total firearms\",Handguns,Rifles,Shotguns,\"Firearms (type unknown)\",\"Knives or cutting instruments\",\"Other weapons\",\"Hands|fists|feet, etc.\"\n",
    "Alabama,4,3,3,0,0,0,0,1,0\n",
    "Alaska,69,44,17,1,6,20,8,5,12\n",
    "...\n",
    "Wyoming,13,9,7,0,0,2,3,0,1\n",
    "]\n",
    "```\n",
    "\n",
    "The population data for the similarity analysis has the following structure:\n",
    "```\n",
    "[\n",
    "Category,Subcategory,2010,2011,2012,2013,2014,2015,2016,2017,2018,2019\n",
    "Nation,United States,\"309,321,666\",\"311,556,874\",\"313,830,990\",\"315,993,715\",\"318,301,008\",\"320,635,163\",\"322,941,311\",\"324,985,539\",\"326,687,501\",\"328,239,523\"\n",
    "Region,Northeast,\"55,380,134\",\"55,604,223\",\"55,775,216\",\"55,901,806\",\"56,006,011\",\"56,034,684\",\"56,042,330\",\"56,059,240\",\"56,046,620\",\"55,982,803\"\n",
    "Region,Midwest,\"66,974,416\",\"67,157,800\",\"67,336,743\",\"67,560,379\",\"67,745,167\",\"67,860,583\",\"67,987,540\",\"68,126,781\",\"68,236,628\",\"68,329,004\"\n",
    "Region,South,\"114,866,680\",\"116,006,522\",\"117,241,208\",\"118,364,400\",\"119,624,037\",\"120,997,341\",\"122,351,760\",\"123,542,189\",\"124,569,433\",\"125,580,448\"\n",
    "Region,West,\"72,100,436\",\"72,788,329\",\"73,477,823\",\"74,167,130\",\"74,925,793\",\"75,742,555\",\"76,559,681\",\"77,257,329\",\"77,834,820\",\"78,347,268\"\n",
    "State,Alabama,\"4,785,437\",\"4,799,069\",\"4,815,588\",\"4,830,081\",\"4,841,799\",\"4,852,347\",\"4,863,525\",\"4,874,486\",\"4,887,681\",\"4,903,185\"\n",
    "State,Alaska,\"713\n",
    "...\n",
    "State,Wyoming,\"564,487\",\"567,299\",\"576,305\",\"582,122\",\"582,531\",\"585,613\",\"584,215\",\"578,931\",\"577,601\",\"578,759\"\n",
    "]\n",
    "```"
   ]
  },
  {
   "cell_type": "code",
   "execution_count": 6,
   "metadata": {
    "id": "t4hNO_y-r8qS",
    "pycharm": {
     "name": "#%%\n"
    }
   },
   "outputs": [],
   "source": [
    "# CS390Z - Introduction to Data Mining - Fall 2021\n",
    "# Student: Dakota M. Miller\n",
    "# Description: Data Collection & Analysis"
   ]
  },
  {
   "cell_type": "markdown",
   "source": [
    "# Summary Statistics"
   ],
   "metadata": {
    "collapsed": false
   }
  },
  {
   "cell_type": "markdown",
   "source": [
    "### Code Header"
   ],
   "metadata": {
    "collapsed": false,
    "pycharm": {
     "name": "#%% md\n"
    }
   }
  },
  {
   "cell_type": "code",
   "execution_count": 7,
   "outputs": [],
   "source": [
    "# CS390Z - Introduction to Data Minining - Fall 2021\n",
    "# Instructor: Thyago Mota\n",
    "# Description: summary statistics"
   ],
   "metadata": {
    "collapsed": false,
    "pycharm": {
     "name": "#%%\n"
    }
   }
  },
  {
   "cell_type": "markdown",
   "source": [
    "### Library Imports"
   ],
   "metadata": {
    "collapsed": false
   }
  },
  {
   "cell_type": "code",
   "execution_count": 8,
   "outputs": [],
   "source": [
    "import json"
   ],
   "metadata": {
    "collapsed": false,
    "pycharm": {
     "name": "#%%\n"
    }
   }
  },
  {
   "cell_type": "code",
   "execution_count": 9,
   "outputs": [],
   "source": [
    "import numpy as np"
   ],
   "metadata": {
    "collapsed": false,
    "pycharm": {
     "name": "#%%\n"
    }
   }
  },
  {
   "cell_type": "code",
   "execution_count": 10,
   "outputs": [],
   "source": [
    "import csv"
   ],
   "metadata": {
    "collapsed": false,
    "pycharm": {
     "name": "#%%\n"
    }
   }
  },
  {
   "cell_type": "code",
   "execution_count": 11,
   "outputs": [],
   "source": [
    "import os"
   ],
   "metadata": {
    "collapsed": false,
    "pycharm": {
     "name": "#%%\n"
    }
   }
  },
  {
   "cell_type": "code",
   "execution_count": 12,
   "outputs": [],
   "source": [
    "import matplotlib.pyplot as plt"
   ],
   "metadata": {
    "collapsed": false,
    "pycharm": {
     "name": "#%%\n"
    }
   }
  },
  {
   "cell_type": "code",
   "execution_count": 13,
   "outputs": [],
   "source": [
    "import re"
   ],
   "metadata": {
    "collapsed": false,
    "pycharm": {
     "name": "#%%\n"
    }
   }
  },
  {
   "cell_type": "markdown",
   "source": [
    "### Definitions/Parameters"
   ],
   "metadata": {
    "collapsed": false
   }
  },
  {
   "cell_type": "code",
   "execution_count": 14,
   "outputs": [],
   "source": [
    "os.chdir(globals()['_dh'][0])\n",
    "os.chdir('../')\n",
    "DATA_FOLDER = os.path.join(os.getcwd(), 'data')\n",
    "CRIME_FILE_NAME = 'crime_data.csv'\n",
    "CRIME_FILE_PATH = os.path.join(DATA_FOLDER, CRIME_FILE_NAME)\n",
    "CENSUS_FILE_NAME = 'census_data.csv'\n",
    "CENSUS_FILE_PATH = os.path.join(DATA_FOLDER, CENSUS_FILE_NAME)\n",
    "BASE_YEAR = 2019"
   ],
   "metadata": {
    "collapsed": false,
    "pycharm": {
     "name": "#%%\n"
    }
   }
  },
  {
   "cell_type": "markdown",
   "source": [
    "### Read in Crime Data"
   ],
   "metadata": {
    "collapsed": false
   }
  },
  {
   "cell_type": "code",
   "execution_count": 19,
   "outputs": [
    {
     "ename": "IndexError",
     "evalue": "list index out of range",
     "output_type": "error",
     "traceback": [
      "\u001B[0;31m---------------------------------------------------------------------------\u001B[0m",
      "\u001B[0;31mIndexError\u001B[0m                                Traceback (most recent call last)",
      "\u001B[0;32m/var/folders/9x/v176y6kx7js27mvdnptl7hqc0000gn/T/ipykernel_48232/1871974783.py\u001B[0m in \u001B[0;36m<module>\u001B[0;34m\u001B[0m\n\u001B[1;32m     25\u001B[0m                     \u001B[0;32melse\u001B[0m\u001B[0;34m:\u001B[0m\u001B[0;34m\u001B[0m\u001B[0;34m\u001B[0m\u001B[0m\n\u001B[1;32m     26\u001B[0m                         \u001B[0mcrime_row_headers\u001B[0m\u001B[0;34m.\u001B[0m\u001B[0mappend\u001B[0m\u001B[0;34m(\u001B[0m\u001B[0mitem\u001B[0m\u001B[0;34m)\u001B[0m\u001B[0;34m\u001B[0m\u001B[0;34m\u001B[0m\u001B[0m\n\u001B[0;32m---> 27\u001B[0;31m                     \u001B[0mprint\u001B[0m\u001B[0;34m(\u001B[0m\u001B[0mcrime_row_headers\u001B[0m\u001B[0;34m[\u001B[0m\u001B[0mrow_count\u001B[0m\u001B[0;34m-\u001B[0m\u001B[0;36m1\u001B[0m\u001B[0;34m]\u001B[0m\u001B[0;34m)\u001B[0m\u001B[0;34m\u001B[0m\u001B[0;34m\u001B[0m\u001B[0m\n\u001B[0m\u001B[1;32m     28\u001B[0m                 \u001B[0;32melse\u001B[0m\u001B[0;34m:\u001B[0m\u001B[0;34m\u001B[0m\u001B[0;34m\u001B[0m\u001B[0m\n\u001B[1;32m     29\u001B[0m                     \u001B[0mrow_data\u001B[0m\u001B[0;34m.\u001B[0m\u001B[0mappend\u001B[0m\u001B[0;34m(\u001B[0m\u001B[0mint\u001B[0m\u001B[0;34m(\u001B[0m\u001B[0mitem\u001B[0m\u001B[0;34m)\u001B[0m\u001B[0;34m)\u001B[0m\u001B[0;34m\u001B[0m\u001B[0;34m\u001B[0m\u001B[0m\n",
      "\u001B[0;31mIndexError\u001B[0m: list index out of range"
     ]
    }
   ],
   "source": [
    "crime_col_headers = []\n",
    "crime_row_headers = []\n",
    "total_crimes = []\n",
    "crime_data = []\n",
    "crime_state_total = []\n",
    "with open(CRIME_FILE_PATH, 'rt', encoding='utf-8') as csv_file:\n",
    "    reader = csv.reader(csv_file)\n",
    "    row_count = 0\n",
    "    state_total = 0\n",
    "    index = 0\n",
    "    for row in reader:\n",
    "        row_data = []\n",
    "        row_count += 1\n",
    "        if row_count == 1:\n",
    "            for item in row:\n",
    "                if item[-1].isdigit():\n",
    "                    crime_col_headers.append(item[0:-1])\n",
    "                else:\n",
    "                    crime_col_headers.append(item)\n",
    "        else:\n",
    "            for item in row:\n",
    "                if index == 0:\n",
    "                    if item[-1].isdigit():\n",
    "                        crime_row_headers.append(item[0:-1])\n",
    "                    else:\n",
    "                        crime_row_headers.append(item)\n",
    "                    print(crime_row_headers[row_count-1])\n",
    "                else:\n",
    "                    row_data.append(int(item))\n",
    "                    state_total += int(item)\n",
    "                print(crime_data[index])\n",
    "                index += 1\n",
    "            crime_row_headers.append(row_data[0])\n",
    "            crime_data.append(row_data[1:])\n",
    "            crime_state_total.append(state_total)"
   ],
   "metadata": {
    "collapsed": false,
    "pycharm": {
     "name": "#%%\n"
    }
   }
  },
  {
   "cell_type": "code",
   "execution_count": null,
   "outputs": [],
   "source": [
    "crime_col_headers\n",
    "crime_row_headers\n",
    "crime_state_total\n",
    "crime_data"
   ],
   "metadata": {
    "collapsed": false,
    "pycharm": {
     "name": "#%%\n"
    }
   }
  },
  {
   "cell_type": "code",
   "execution_count": null,
   "outputs": [],
   "source": [
    "aqis = []\n",
    "for record in records:\n",
    "    aqis.append(record['aqi'])\n",
    "aqis_array = np.array(aqis)\n",
    "\n",
    "print('*** Summary Statistics ***')\n",
    "print(f'#records: {len(records)}')\n",
    "print(f'AQI range: [{np.min(aqis_array)},{np.max(aqis_array)}]')\n",
    "print('AQI mean: {:.2f}'.format(np.mean(aqis_array)))\n",
    "print('AQI median: {:.2f}'.format(np.median(aqis_array)))\n",
    "print('AQI std: {:.2f}'.format(np.std(aqis_array)))"
   ],
   "metadata": {
    "collapsed": false,
    "pycharm": {
     "name": "#%%\n"
    }
   }
  },
  {
   "cell_type": "markdown",
   "source": [
    "# Visualizations"
   ],
   "metadata": {
    "collapsed": false
   }
  },
  {
   "cell_type": "code",
   "execution_count": null,
   "outputs": [],
   "source": [
    "# CS390Z - Introduction to Data Minining - Fall 2021\n",
    "# Instructor: Thyago Mota\n",
    "# Description: histogram\n",
    "\n",
    "from google.colab import drive\n",
    "import matplotlib.pyplot as plt\n",
    "\n",
    "# definitions/parameters\n",
    "DATA_FOLDER = '/content/drive/MyDrive/Colab Datasets/co_air_quality/'\n",
    "DATASET_NAME = 'co_air_quality.json'\n",
    "BASE_YEAR = 2020\n",
    "\n",
    "# Google drive mount\n",
    "# drive.mount('/content/drive')\n",
    "\n",
    "with open(DATA_FOLDER + DATASET_NAME, 'rt') as json_file:\n",
    "    records = json.load(json_file)\n",
    "\n",
    "aqis = []\n",
    "for record in records:\n",
    "    aqis.append(record['aqi'])\n",
    "\n",
    "bins = list(range(30, 185, 15))\n",
    "counts, bins, _ = plt.hist(\n",
    "    aqis,\n",
    "    bins=bins,\n",
    "    rwidth=0.5\n",
    ")\n",
    "xticks = [x + 7 for x in bins]\n",
    "axes = plt.gca()  # get a reference to the plot's axes\n",
    "axes.set_xticks(xticks)\n",
    "plt.xlabel('AQI')\n",
    "plt.ylabel('Count')\n",
    "plt.title('Air Quality in the Denver Metro Area (2020)')\n",
    "plt.show()"
   ],
   "metadata": {
    "collapsed": false,
    "pycharm": {
     "name": "#%%\n"
    }
   }
  },
  {
   "cell_type": "code",
   "execution_count": null,
   "outputs": [],
   "source": [
    "# CS390Z - Introduction to Data Minining - Fall 2021\n",
    "# Instructor: Thyago Mota\n",
    "# Description: box plot\n",
    "\n",
    "from google.colab import drive\n",
    "import matplotlib.pyplot as plt\n",
    "\n",
    "# definitions/parameters\n",
    "DATA_FOLDER = '/content/drive/MyDrive/Colab Datasets/co_air_quality/'\n",
    "DATASET_NAME = 'co_air_quality.json'\n",
    "BASE_YEAR = 2020\n",
    "\n",
    "# Google drive mount\n",
    "# drive.mount('/content/drive')\n"
   ],
   "metadata": {
    "collapsed": false,
    "pycharm": {
     "name": "#%%\n"
    }
   }
  },
  {
   "cell_type": "code",
   "execution_count": null,
   "outputs": [],
   "source": [],
   "metadata": {
    "collapsed": false,
    "pycharm": {
     "name": "#%%\n"
    }
   }
  },
  {
   "cell_type": "code",
   "execution_count": null,
   "outputs": [],
   "source": [],
   "metadata": {
    "collapsed": false,
    "pycharm": {
     "name": "#%%\n"
    }
   }
  },
  {
   "cell_type": "code",
   "execution_count": null,
   "outputs": [],
   "source": [],
   "metadata": {
    "collapsed": false,
    "pycharm": {
     "name": "#%%\n"
    }
   }
  },
  {
   "cell_type": "code",
   "execution_count": null,
   "outputs": [],
   "source": [],
   "metadata": {
    "collapsed": false,
    "pycharm": {
     "name": "#%%\n"
    }
   }
  },
  {
   "cell_type": "code",
   "execution_count": null,
   "outputs": [],
   "source": [],
   "metadata": {
    "collapsed": false,
    "pycharm": {
     "name": "#%%\n"
    }
   }
  },
  {
   "cell_type": "code",
   "execution_count": null,
   "outputs": [],
   "source": [
    "with open(DATA_FOLDER + DATASET_NAME, 'rt') as json_file:\n",
    "    records = json.load(json_file)\n",
    "\n",
    "aqis = []\n",
    "for record in records:\n",
    "    aqis.append(record['aqi'])\n",
    "\n",
    "bp = plt.boxplot(\n",
    "    aqis,\n",
    "    vert=False\n",
    ")\n",
    "for median in bp['medians']:\n",
    "    xy = median.get_xydata()[0]\n",
    "    xy[1] -= .05\n",
    "    plt.annotate(str(xy[0]), xy=xy)\n",
    "\n",
    "for cap in bp['caps']:\n",
    "    xy = cap.get_xydata()[0]\n",
    "    xy[1] -= .05\n",
    "    plt.annotate(str(xy[0]), xy=xy)\n",
    "\n",
    "min_whisker = bp['caps'][0].get_xydata()[0][0]\n",
    "max_whisker = bp['caps'][1].get_xydata()[0][0]\n",
    "\n",
    "outliers = []\n",
    "for record in records:\n",
    "    if record['aqi'] < min_whisker or record['aqi'] > max_whisker:\n",
    "        outliers.append(record)\n",
    "print('*** Outliers ***')\n",
    "for outlier in outliers:\n",
    "    print(outlier)\n",
    "\n",
    "axes = plt.gca()\n",
    "axes.spines['right'].set_visible(False)\n",
    "axes.spines['top'].set_visible(False)\n",
    "axes.set_yticklabels([''])\n",
    "plt.ylabel('AQI Denver Metro Area (2020)')\n",
    "\n",
    "plt.show()"
   ],
   "metadata": {
    "collapsed": false,
    "pycharm": {
     "name": "#%%\n"
    }
   }
  },
  {
   "cell_type": "code",
   "execution_count": null,
   "outputs": [],
   "source": [
    "# CS390Z - Introduction to Data Minining - Fall 2021\n",
    "# Instructor: Thyago Mota\n",
    "# Description: time series\n",
    "\n",
    "from google.colab import drive\n",
    "import matplotlib.pyplot as plt\n",
    "from datetime import datetime, timedelta\n",
    "\n",
    "# definitions/parameters\n",
    "DATA_FOLDER = '/content/drive/MyDrive/Colab Datasets/co_air_quality/'\n",
    "DATASET_NAME = 'co_air_quality.json'\n",
    "BASE_YEAR = 2020\n",
    "\n",
    "# Google drive mount\n",
    "# drive.mount('/content/drive')\n",
    "\n",
    "with open(DATA_FOLDER + DATASET_NAME, 'rt') as json_file:\n",
    "    records = json.load(json_file)\n",
    "\n",
    "aqis = [0] * 12\n",
    "counts = [0] * 12\n",
    "for record in records:\n",
    "    date = datetime.strptime(record['date'], '%m/%d/%Y')\n",
    "    month = date.month\n",
    "    aqis[month - 1] += record['aqi']\n",
    "    counts[month - 1] += 1\n",
    "\n",
    "aqis = [aqis[i] / counts[i] for i in range(12)]\n",
    "# print(aqis)\n",
    "plt.plot(list(range(1, 13)), aqis)\n",
    "axes = plt.gca()\n",
    "axes.set_xticks(list(range(1, 13)))\n",
    "plt.xlabel('Month')\n",
    "plt.ylabel('Avg. AQI')\n",
    "plt.title('AQI Denver Metro Area (2020)')\n",
    "plt.grid()\n",
    "plt.plot([1, 12], [100, 100], '+r-')\n",
    "plt.annotate('Unhealthy (for sensitive groups)', xy=[1, 101])\n",
    "plt.plot([1, 12], [50, 50], '+y-')\n",
    "plt.annotate('Moderate', xy=[1, 51])\n",
    "plt.show()\n"
   ],
   "metadata": {
    "collapsed": false,
    "pycharm": {
     "name": "#%%\n"
    }
   }
  }
 ],
 "metadata": {
  "colab": {
   "authorship_tag": "ABX9TyPXjacHdlVQxklpcnzlkD7e",
   "collapsed_sections": [],
   "name": "co_air_quality",
   "provenance": [],
   "toc_visible": true
  },
  "kernelspec": {
   "name": "pycharm-956b2ba5",
   "language": "python",
   "display_name": "PyCharm (21FCS390Z)"
  },
  "language_info": {
   "codemirror_mode": {
    "name": "ipython",
    "version": 3
   },
   "file_extension": ".py",
   "mimetype": "text/x-python",
   "name": "python",
   "nbconvert_exporter": "python",
   "pygments_lexer": "ipython3",
   "version": "3.8.2"
  }
 },
 "nbformat": 4,
 "nbformat_minor": 4
}