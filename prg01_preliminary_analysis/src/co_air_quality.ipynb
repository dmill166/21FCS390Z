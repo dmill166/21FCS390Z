{
 "cells": [
  {
   "cell_type": "markdown",
   "metadata": {
    "id": "zGP6D8csr_tF"
   },
   "source": [
    "# Preamble\n",
    "\n",
    "Title: *Air Quality in the Denver Metro Area (2020)*\n",
    "\n",
    "Author: *Thyago Mota*\n",
    "\n",
    "Email: *tmota at msudenver.edu*\n",
    "\n",
    "Last Update: *2021-09-06*\n"
   ]
  },
  {
   "cell_type": "markdown",
   "metadata": {
    "id": "nC-nqZJZJIB-"
   },
   "source": [
    "# Introduction\n",
    "\n",
    "This report presents the preliminary results of an analysis of air quality data in the Denver metropolitan area in 2020. Data for this report was obtained from information published daily by the Colorado Department of Public Health and Environment. "
   ]
  },
  {
   "cell_type": "markdown",
   "metadata": {
    "id": "CKxaEcrHKI3E"
   },
   "source": [
    "# Dataset\n",
    "\n",
    "The dataset for this report was built from informaton published daily at [Detailed Air Quality Summary](https://www.colorado.gov/airquality/air_quality_dynam.aspx). Web scraping techniques were employed to compile AQI (Air Quality Index) daily measurements in the year 2020. AQI is an index that takes into consideration the concentration of various air pollutants, including carbon monoxide, ozone, sulfur dioxide, among others. AQI varies from 0-500 and the levels of health concern are normally classified as follows:\n",
    "\n",
    "* 0-50: Good\n",
    "* 51-100: Moderate\n",
    "* 101-150: Unhealthy for Sensitive Groups\n",
    "* 151-200: Unhealthy\n",
    "* 201-300: Very unhealthy\n",
    "* 301-500: Hazardous\n",
    "\n",
    "The script below automatically extracts daily AQI measurements in the year 2020. The information is saved in a json file (co_air_quality.json) with the following structure: \n",
    "\n",
    "```\n",
    "[\n",
    "  {\"date\": \"01/01/2020\", \"aqi\": 60}, \n",
    "  {\"date\": \"01/02/2020\", \"aqi\": 50}, \n",
    "  {\"date\": \"01/03/2020\", \"aqi\": 49},\n",
    "  ...\n",
    "  {\"date\": \"12/31/2020\", \"aqi\": 92}\n",
    "]\n",
    "```"
   ]
  },
  {
   "cell_type": "code",
   "execution_count": null,
   "metadata": {
    "id": "t4hNO_y-r8qS"
   },
   "outputs": [],
   "source": [
    "# CS390Z - Introduction to Data Minining - Fall 2021\n",
    "# Instructor: Thyago Mota\n",
    "# Description: data collection\n",
    "\n",
    "from bs4 import BeautifulSoup\n",
    "from google.colab import drive\n",
    "from datetime import datetime, timedelta\n",
    "import requests\n",
    "import json\n",
    "import time\n",
    "\n",
    "# definitions/parameters\n",
    "DATA_FOLDER = '/content/drive/MyDrive/Colab Datasets/co_air_quality/'\n",
    "DATASET_NAME = 'co_air_quality.json'\n",
    "BASE_URL = 'https://www.colorado.gov/airquality/air_quality_dynam.aspx'\n",
    "HEADERS = {\"User-Agent\": \"Mozilla/5.0 (X11; CrOS x86_64 12871.102.0) AppleWebKit/537.36 (KHTML, like Gecko) Chrome/81.0.4044.141 Safari/537.36\"}\n",
    "BASE_YEAR = 2020\n",
    "\n",
    "# Google drive mount\n",
    "# drive.mount('/content/drive')\n",
    "\n",
    "# data collection\n",
    "date_str = '01/01/' + str(BASE_YEAR)\n",
    "date = datetime.strptime(date_str, '%m/%d/%Y')\n",
    "records = []\n",
    "count = 0\n",
    "while True:\n",
    "  year = date.year\n",
    "  if year != BASE_YEAR:\n",
    "    break\n",
    "  # print(datetime.strftime(date, '%m/%d/%Y'))\n",
    "  date_str = datetime.strftime(date, '%m/%d/%Y')\n",
    "  url = BASE_URL + f'?seeddate={date_str}'\n",
    "  # print(url)\n",
    "  result = requests.get(url, headers=HEADERS)\n",
    "  if result.status_code == 200:\n",
    "    soup = BeautifulSoup(result.content, 'html.parser')\n",
    "    div = soup.find('div', {'id': 'divDenver'})\n",
    "    if div:\n",
    "      tds = div.find_all('td')\n",
    "      a = tds[0].find('a')\n",
    "      if a and 'Denver METRO' in a.text:\n",
    "        aqi = int(tds[3].text)\n",
    "        records.append({'date': date_str, 'aqi': aqi})\n",
    "  # print(result.content)\n",
    "  date = date + timedelta(days=1)\n",
    "  time.sleep(2)\n",
    "  count += 1\n",
    "  # if count == 10:\n",
    "  #   break\n",
    "\n",
    "with open(DATA_FOLDER + DATASET_NAME, 'wt') as json_file:\n",
    "  json.dump(records, json_file)\n",
    "\n",
    "#print(records)"
   ]
  },
  {
   "cell_type": "markdown",
   "metadata": {
    "id": "-hR8RFxtJCrl"
   },
   "source": [
    "# Summary Statistics\n",
    "\n"
   ]
  },
  {
   "cell_type": "code",
   "execution_count": 48,
   "metadata": {
    "colab": {
     "base_uri": "https://localhost:8080/",
     "height": 0
    },
    "executionInfo": {
     "elapsed": 138,
     "status": "ok",
     "timestamp": 1630967369306,
     "user": {
      "displayName": "Thyago Mota",
      "photoUrl": "https://lh3.googleusercontent.com/a-/AOh14GgUxgd0gThNMKKmMMtn9jjjNSCh-wlWwiS5ZCZDtw=s64",
      "userId": "11657853989846995098"
     },
     "user_tz": 360
    },
    "id": "tUH0I8nALp36",
    "outputId": "b312ceb6-5327-4abc-8864-a8398aa426cc"
   },
   "outputs": [
    {
     "name": "stdout",
     "output_type": "stream",
     "text": [
      "*** Summary Statistics ***\n",
      "#records: 366\n",
      "AQI range: [30,181]\n",
      "AQI mean: 71.75\n",
      "AQI median: 63.00\n",
      "AQI std: 27.48\n"
     ]
    }
   ],
   "source": [
    "# CS390Z - Introduction to Data Minining - Fall 2021\n",
    "# Instructor: Thyago Mota\n",
    "# Description: summary statistics\n",
    "\n",
    "import json\n",
    "from google.colab import drive\n",
    "from datetime import datetime, timedelta\n",
    "import numpy as np\n",
    "\n",
    "# definitions/parameters\n",
    "DATA_FOLDER = '/content/drive/MyDrive/Colab Datasets/co_air_quality/'\n",
    "DATASET_NAME = 'co_air_quality.json'\n",
    "BASE_YEAR = 2020\n",
    "\n",
    "# Google drive mount\n",
    "# drive.mount('/content/drive')\n",
    "\n",
    "with open(DATA_FOLDER + DATASET_NAME, 'rt') as json_file:\n",
    "  records = json.load(json_file)\n",
    "\n",
    "aqis = []\n",
    "for record in records:\n",
    "  aqis.append(record['aqi'])\n",
    "aqis_array = np.array(aqis)\n",
    "\n",
    "print('*** Summary Statistics ***')\n",
    "print(f'#records: {len(records)}')\n",
    "print(f'AQI range: [{np.min(aqis_array)},{np.max(aqis_array)}]')\n",
    "print('AQI mean: {:.2f}'.format(np.mean(aqis_array)))\n",
    "print('AQI median: {:.2f}'.format(np.median(aqis_array)))\n",
    "print('AQI std: {:.2f}'.format(np.std(aqis_array)))"
   ]
  },
  {
   "cell_type": "markdown",
   "metadata": {
    "id": "0C07VKkXPGcL"
   },
   "source": [
    "# Visualizations"
   ]
  },
  {
   "cell_type": "code",
   "execution_count": 53,
   "metadata": {
    "colab": {
     "base_uri": "https://localhost:8080/",
     "height": 295
    },
    "executionInfo": {
     "elapsed": 295,
     "status": "ok",
     "timestamp": 1630967908949,
     "user": {
      "displayName": "Thyago Mota",
      "photoUrl": "https://lh3.googleusercontent.com/a-/AOh14GgUxgd0gThNMKKmMMtn9jjjNSCh-wlWwiS5ZCZDtw=s64",
      "userId": "11657853989846995098"
     },
     "user_tz": 360
    },
    "id": "_oavI33iPOnc",
    "outputId": "d4fba136-eed0-460a-9f8e-41fb4fbbacd5"
   },
   "outputs": [
    {
     "data": {
      "image/png": "[encoded data removed]",
      "text/plain": [
       "<Figure size 432x288 with 1 Axes>"
      ]
     },
     "metadata": {
      "needs_background": "light"
     },
     "output_type": "display_data"
    }
   ],
   "source": [
    "# CS390Z - Introduction to Data Minining - Fall 2021\n",
    "# Instructor: Thyago Mota\n",
    "# Description: histogram\n",
    "\n",
    "from google.colab import drive\n",
    "import matplotlib.pyplot as plt \n",
    "\n",
    "# definitions/parameters\n",
    "DATA_FOLDER = '/content/drive/MyDrive/Colab Datasets/co_air_quality/'\n",
    "DATASET_NAME = 'co_air_quality.json'\n",
    "BASE_YEAR = 2020\n",
    "\n",
    "# Google drive mount\n",
    "# drive.mount('/content/drive')\n",
    "\n",
    "with open(DATA_FOLDER + DATASET_NAME, 'rt') as json_file:\n",
    "  records = json.load(json_file)\n",
    "\n",
    "aqis = []\n",
    "for record in records:\n",
    "  aqis.append(record['aqi'])\n",
    "\n",
    "bins = list(range(30, 185, 15))\n",
    "counts, bins, _ = plt.hist(\n",
    "    aqis, \n",
    "    bins=bins, \n",
    "    rwidth=0.5\n",
    ")\n",
    "xticks = [x + 7 for x in bins]\n",
    "axes = plt.gca() # get a reference to the plot's axes\n",
    "axes.set_xticks(xticks)\n",
    "plt.xlabel('AQI')\n",
    "plt.ylabel('Count')\n",
    "plt.title('Air Quality in the Denver Metro Area (2020)')\n",
    "plt.show()"
   ]
  },
  {
   "cell_type": "code",
   "execution_count": 64,
   "metadata": {
    "colab": {
     "base_uri": "https://localhost:8080/",
     "height": 588
    },
    "executionInfo": {
     "elapsed": 252,
     "status": "ok",
     "timestamp": 1630968553584,
     "user": {
      "displayName": "Thyago Mota",
      "photoUrl": "https://lh3.googleusercontent.com/a-/AOh14GgUxgd0gThNMKKmMMtn9jjjNSCh-wlWwiS5ZCZDtw=s64",
      "userId": "11657853989846995098"
     },
     "user_tz": 360
    },
    "id": "8zBqplJHRNZs",
    "outputId": "2102203c-f8c8-490b-f856-f6990ac051fd"
   },
   "outputs": [
    {
     "name": "stdout",
     "output_type": "stream",
     "text": [
      "*** Outliers ***\n",
      "{'date': '06/17/2020', 'aqi': 146}\n",
      "{'date': '07/10/2020', 'aqi': 146}\n",
      "{'date': '08/17/2020', 'aqi': 136}\n",
      "{'date': '08/21/2020', 'aqi': 161}\n",
      "{'date': '08/22/2020', 'aqi': 156}\n",
      "{'date': '08/23/2020', 'aqi': 161}\n",
      "{'date': '08/24/2020', 'aqi': 150}\n",
      "{'date': '08/25/2020', 'aqi': 154}\n",
      "{'date': '08/26/2020', 'aqi': 143}\n",
      "{'date': '09/06/2020', 'aqi': 161}\n",
      "{'date': '09/07/2020', 'aqi': 164}\n",
      "{'date': '09/16/2020', 'aqi': 142}\n",
      "{'date': '09/17/2020', 'aqi': 153}\n",
      "{'date': '09/27/2020', 'aqi': 134}\n",
      "{'date': '09/30/2020', 'aqi': 133}\n",
      "{'date': '10/07/2020', 'aqi': 143}\n",
      "{'date': '10/16/2020', 'aqi': 173}\n",
      "{'date': '10/17/2020', 'aqi': 181}\n"
     ]
    },
    {
     "data": {
      "image/png": "[encoded data removed]",
      "text/plain": [
       "<Figure size 432x288 with 1 Axes>"
      ]
     },
     "metadata": {
      "needs_background": "light"
     },
     "output_type": "display_data"
    }
   ],
   "source": [
    "# CS390Z - Introduction to Data Minining - Fall 2021\n",
    "# Instructor: Thyago Mota\n",
    "# Description: box plot\n",
    "\n",
    "from google.colab import drive\n",
    "import matplotlib.pyplot as plt \n",
    "\n",
    "# definitions/parameters\n",
    "DATA_FOLDER = '/content/drive/MyDrive/Colab Datasets/co_air_quality/'\n",
    "DATASET_NAME = 'co_air_quality.json'\n",
    "BASE_YEAR = 2020\n",
    "\n",
    "# Google drive mount\n",
    "# drive.mount('/content/drive')\n",
    "\n",
    "with open(DATA_FOLDER + DATASET_NAME, 'rt') as json_file:\n",
    "  records = json.load(json_file)\n",
    "\n",
    "aqis = []\n",
    "for record in records:\n",
    "  aqis.append(record['aqi'])\n",
    "\n",
    "bp = plt.boxplot(\n",
    "    aqis, \n",
    "    vert=False\n",
    ") \n",
    "for median in bp['medians']:\n",
    "  xy = median.get_xydata()[0]\n",
    "  xy[1] -= .05\n",
    "  plt.annotate(str(xy[0]), xy=xy)\n",
    "    \n",
    "for cap in bp['caps']:\n",
    "  xy = cap.get_xydata()[0]\n",
    "  xy[1] -= .05\n",
    "  plt.annotate(str(xy[0]), xy=xy)\n",
    "\n",
    "min_whisker = bp['caps'][0].get_xydata()[0][0]\n",
    "max_whisker = bp['caps'][1].get_xydata()[0][0]   \n",
    "\n",
    "outliers = []\n",
    "for record in records:\n",
    "  if record['aqi'] < min_whisker or record['aqi'] > max_whisker:\n",
    "    outliers.append(record)\n",
    "print('*** Outliers ***')\n",
    "for outlier in outliers:\n",
    "  print(outlier)\n",
    "\n",
    "axes = plt.gca()\n",
    "axes.spines['right'].set_visible(False)\n",
    "axes.spines['top'].set_visible(False)\n",
    "axes.set_yticklabels([''])\n",
    "plt.ylabel('AQI Denver Metro Area (2020)')\n",
    "\n",
    "plt.show()"
   ]
  },
  {
   "cell_type": "code",
   "execution_count": 87,
   "metadata": {
    "colab": {
     "base_uri": "https://localhost:8080/",
     "height": 295
    },
    "executionInfo": {
     "elapsed": 297,
     "status": "ok",
     "timestamp": 1630969936543,
     "user": {
      "displayName": "Thyago Mota",
      "photoUrl": "https://lh3.googleusercontent.com/a-/AOh14GgUxgd0gThNMKKmMMtn9jjjNSCh-wlWwiS5ZCZDtw=s64",
      "userId": "11657853989846995098"
     },
     "user_tz": 360
    },
    "id": "cvX5-jTsTZh8",
    "outputId": "b614e1d0-a4ae-4564-b003-bf91eb842c34"
   },
   "outputs": [
    {
     "data": {
      "image/png": "[encoded data removed]",
      "text/plain": [
       "<Figure size 432x288 with 1 Axes>"
      ]
     },
     "metadata": {
      "needs_background": "light"
     },
     "output_type": "display_data"
    }
   ],
   "source": [
    "# CS390Z - Introduction to Data Minining - Fall 2021\n",
    "# Instructor: Thyago Mota\n",
    "# Description: time series\n",
    "\n",
    "from google.colab import drive\n",
    "import matplotlib.pyplot as plt \n",
    "from datetime import datetime, timedelta\n",
    "\n",
    "# definitions/parameters\n",
    "DATA_FOLDER = '/content/drive/MyDrive/Colab Datasets/co_air_quality/'\n",
    "DATASET_NAME = 'co_air_quality.json'\n",
    "BASE_YEAR = 2020\n",
    "\n",
    "# Google drive mount\n",
    "# drive.mount('/content/drive')\n",
    "\n",
    "with open(DATA_FOLDER + DATASET_NAME, 'rt') as json_file:\n",
    "  records = json.load(json_file)\n",
    "\n",
    "aqis = [ 0 ] * 12\n",
    "counts = [ 0 ] * 12\n",
    "for record in records:\n",
    "  date = datetime.strptime(record['date'], '%m/%d/%Y')\n",
    "  month = date.month\n",
    "  aqis[month - 1] += record['aqi']\n",
    "  counts[month - 1] += 1\n",
    "\n",
    "aqis = [ aqis[i] / counts[i] for i in range(12) ]\n",
    "# print(aqis)\n",
    "plt.plot(list(range(1, 13)), aqis)\n",
    "axes = plt.gca()\n",
    "axes.set_xticks(list(range(1, 13)))\n",
    "plt.xlabel('Month')\n",
    "plt.ylabel('Avg. AQI')\n",
    "plt.title('AQI Denver Metro Area (2020)')\n",
    "plt.grid()\n",
    "plt.plot([1, 12], [100, 100], '+r-')\n",
    "plt.annotate('Unhealthy (for sensitive groups)', xy=[1, 101])\n",
    "plt.plot([1, 12], [50, 50], '+y-')\n",
    "plt.annotate('Moderate', xy=[1, 51])\n",
    "plt.show()"
   ]
  }
 ],
 "metadata": {
  "colab": {
   "authorship_tag": "ABX9TyPXjacHdlVQxklpcnzlkD7e",
   "collapsed_sections": [],
   "name": "co_air_quality",
   "provenance": [],
   "toc_visible": true
  },
  "kernelspec": {
   "display_name": "Python 3 (ipykernel)",
   "language": "python",
   "name": "python3"
  },
  "language_info": {
   "codemirror_mode": {
    "name": "ipython",
    "version": 3
   },
   "file_extension": ".py",
   "mimetype": "text/x-python",
   "name": "python",
   "nbconvert_exporter": "python",
   "pygments_lexer": "ipython3",
   "version": "3.8.2"
  }
 },
 "nbformat": 4,
 "nbformat_minor": 4
}
