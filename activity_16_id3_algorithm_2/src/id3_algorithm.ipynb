{
 "cells": [
  {
   "cell_type": "markdown",
   "source": [
    "### Preamble\n",
    "\n",
    "Title: *ID3 Algorithm w/ Training*\n",
    "\n",
    "Author: *Dakota M. Miller*\n",
    "\n",
    "Email: *dmill166 @ msudenver.edu*\n",
    "\n",
    "Last Update: *2021-10-07*"
   ],
   "metadata": {
    "collapsed": false,
    "pycharm": {
     "name": "#%% md\n"
    }
   }
  },
  {
   "cell_type": "markdown",
   "source": [
    "### Dataset\n",
    "\n",
    "There are 2 datasets in this activity:\n",
    "\n",
    "* heart (to predict probability of having heart disease)\n",
    "* diabetes (to predict probability of having diabetes)"
   ],
   "metadata": {
    "collapsed": false,
    "pycharm": {
     "name": "#%% md\n"
    }
   }
  },
  {
   "cell_type": "markdown",
   "source": [
    "### Imports"
   ],
   "metadata": {
    "collapsed": false,
    "pycharm": {
     "name": "#%% md\n"
    }
   }
  },
  {
   "cell_type": "code",
   "execution_count": null,
   "outputs": [],
   "source": [
    "import os, math, sys, random\n",
    "import pandas as pd\n",
    "from pandas.core.frame import DataFrame\n",
    "from sklearn import tree\n",
    "from sklearn.tree import DecisionTreeClassifier, export_text\n",
    "from sklearn import tree"
   ],
   "metadata": {
    "collapsed": false,
    "pycharm": {
     "name": "#%%\n"
    }
   }
  },
  {
   "cell_type": "markdown",
   "source": [
    "### Declarations/Parameters"
   ],
   "metadata": {
    "collapsed": false,
    "pycharm": {
     "name": "#%% md\n"
    }
   }
  },
  {
   "cell_type": "code",
   "execution_count": null,
   "outputs": [],
   "source": [
    "import os\n",
    "os.chdir(globals()['_dh'][0])\n",
    "os.chdir('../')\n",
    "DATA_FOLDER = os.path.join(os.getcwd(), 'data')\n",
    "CSV_FILE_NAME = 'country_indicators.csv'\n",
    "CSV_FILE_PATH = os.path.join(DATA_FOLDER, CSV_FILE_NAME)"
   ],
   "metadata": {
    "collapsed": false,
    "pycharm": {
     "name": "#%%\n"
    }
   }
  }
 ],
 "metadata": {
  "kernelspec": {
   "name": "pycharm-956b2ba5",
   "language": "python",
   "display_name": "PyCharm (21FCS390Z)"
  },
  "language_info": {
   "codemirror_mode": {
    "name": "ipython",
    "version": 2
   },
   "file_extension": ".py",
   "mimetype": "text/x-python",
   "name": "python",
   "nbconvert_exporter": "python",
   "pygments_lexer": "ipython2",
   "version": "2.7.6"
  }
 },
 "nbformat": 4,
 "nbformat_minor": 0
}