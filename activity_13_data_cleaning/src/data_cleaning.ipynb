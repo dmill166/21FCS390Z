{
 "cells": [
  {
   "cell_type": "code",
   "execution_count": 12,
   "source": [
    "# CS390Z - Introduction to Data Minining - Fall 2021\n",
    "# Instructor: Thyago Mota\n",
    "# Description: Activity 12: data cleaning"
   ],
   "outputs": [],
   "metadata": {}
  },
  {
   "cell_type": "code",
   "execution_count": 13,
   "source": [
    "import csv "
   ],
   "outputs": [],
   "metadata": {}
  },
  {
   "cell_type": "code",
   "execution_count": 14,
   "source": [
    "import os"
   ],
   "outputs": [],
   "metadata": {}
  },
  {
   "cell_type": "code",
   "execution_count": 15,
   "source": [
    "import matplotlib.pyplot as plt "
   ],
   "outputs": [],
   "metadata": {}
  },
  {
   "cell_type": "code",
   "execution_count": 16,
   "source": [
    "import re"
   ],
   "outputs": [],
   "metadata": {}
  },
  {
   "cell_type": "code",
   "execution_count": 17,
   "source": [
    "from datetime import datetime"
   ],
   "outputs": [],
   "metadata": {}
  },
  {
   "cell_type": "code",
   "execution_count": 18,
   "source": [
    "import sys"
   ],
   "outputs": [],
   "metadata": {}
  },
  {
   "cell_type": "code",
   "execution_count": 19,
   "source": [
    "# definitions/parameters\n",
    "os.chdir(globals()['_dh'][0])\n",
    "os.chdir('../')\n",
    "DATA_FOLDER = os.path.join(os.getcwd(), 'data')\n",
    "ITEMS_FILE_NAME = 'items.csv'\n",
    "ITEMS_FILE_PATH = os.path.join(DATA_FOLDER, ITEMS_FILE_NAME)\n",
    "ORDERS_FILE_NAME = 'orders.csv'\n",
    "ORDERS_FILE_PATH = os.path.join(DATA_FOLDER, ORDERS_FILE_NAME)"
   ],
   "outputs": [],
   "metadata": {}
  },
  {
   "cell_type": "code",
   "execution_count": 20,
   "source": [
    "def clean_up(text): \n",
    "  text = re.sub('[^\\w\\s\\-&]', '', text)\n",
    "  return re.sub(' +', ' ', text).strip()"
   ],
   "outputs": [],
   "metadata": {}
  },
  {
   "cell_type": "code",
   "execution_count": 21,
   "source": [
    "def capitalize(text):\n",
    "    s = ''\n",
    "    for word in text.split(' '):\n",
    "        s += word.lower().capitalize() + ' '\n",
    "    return s.strip()"
   ],
   "outputs": [],
   "metadata": {}
  },
  {
   "cell_type": "code",
   "execution_count": 22,
   "source": [
    "if __name__ == \"__main__\":\n",
    "\n",
    "    # TODO: parse items\n",
    "    # for category, if 'music' replace with 'musical instruments', if 'appliance' replace with 'appliances', and if 'office' replace with 'office suplies'\n",
    "    # make sure all descriptions, units, and categories are lower case/capitalized and only contain alphanumerical, the dash, and the ampersand characters\n",
    "    items = {}\n",
    "    with open(ITEMS_FILE_PATH, newline='') as csvfile:\n",
    "        first_row = True\n",
    "        item_reader = csv.reader(csvfile, delimiter=',', quotechar='|')\n",
    "        headers = []\n",
    "        for row in item_reader:\n",
    "            if first_row:\n",
    "                for e in row:\n",
    "                    row_split = (e.split(','))\n",
    "                    for a in row_split:\n",
    "                        headers.append(capitalize(clean_up(a)))\n",
    "                first_row = False\n",
    "            else:\n",
    "                for f in row:\n",
    "                    row_split = (f.split(','))\n",
    "                    for b in row_split:\n",
    "                        if()\n",
    "\n",
    "    # TODO: parse orders\n",
    "    # make sure order# uses the format 99999-XX, where XX is a 2-letter in uppercase\n",
    "    # if order# users the format 99999, assume XX = CO\n",
    "    # datetime may appear in formats: %Y-%m-%d %H:%M:%S or %m/%d/%y %H:%M or %m/%d/%y %H:%M:%S\n",
    "    # make sure all client names, addresses and cities are lower case/capitalized and only contain alphanumerical, the dash, and the ampersand characters\n",
    "    # for state, make sure they use the format XX, where XX is a 2-letter in uppercase\n",
    "    # if state is Texas, replace with TX\n",
    "    # check for valid email format (when informed)\n",
    "    # make sure item codes are valid (ie, item exists)\n",
    "    orders = {}\n",
    "\n",
    "    # display a line plot showing the total orders per month per state in the year 2021\n"
   ],
   "outputs": [
    {
     "output_type": "stream",
     "name": "stdout",
     "text": [
      "category\n",
      "category\n",
      "category\n",
      "category\n",
      "category\n",
      "category\n",
      "category\n",
      "category\n",
      "category\n",
      "category\n"
     ]
    }
   ],
   "metadata": {}
  }
 ],
 "metadata": {
  "orig_nbformat": 4,
  "language_info": {
   "name": "python",
   "version": "3.8.0",
   "mimetype": "text/x-python",
   "codemirror_mode": {
    "name": "ipython",
    "version": 3
   },
   "pygments_lexer": "ipython3",
   "nbconvert_exporter": "python",
   "file_extension": ".py"
  },
  "kernelspec": {
   "name": "python3",
   "display_name": "Python 3.8.0 64-bit"
  },
  "interpreter": {
   "hash": "aee8b7b246df8f9039afb4144a1f6fd8d2ca17a180786b69acc140d282b71a49"
  }
 },
 "nbformat": 4,
 "nbformat_minor": 2
}