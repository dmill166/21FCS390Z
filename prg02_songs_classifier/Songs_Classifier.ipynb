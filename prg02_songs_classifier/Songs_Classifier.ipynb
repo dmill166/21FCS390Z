{
  "nbformat": 4,
  "nbformat_minor": 0,
  "metadata": {
    "colab": {
      "name": "Songs Classifier.ipynb",
      "provenance": [],
      "collapsed_sections": [],
      "toc_visible": true,
      "authorship_tag": "ABX9TyMK7fYgRDCBq5HThU0frR0V",
      "include_colab_link": true
    },
    "kernelspec": {
      "name": "python3",
      "display_name": "Python 3"
    },
    "language_info": {
      "name": "python"
    }
  },
  "cells": [
    {
      "cell_type": "markdown",
      "metadata": {
        "id": "view-in-github",
        "colab_type": "text"
      },
      "source": [
        "<a href=\"https://colab.research.google.com/github/dmill166/datamining-learning/blob/main/Songs_Classifier.ipynb\" target=\"_parent\"><img src=\"https://colab.research.google.com/assets/colab-badge.svg\" alt=\"Open In Colab\"/></a>"
      ]
    },
    {
      "cell_type": "markdown",
      "metadata": {
        "id": "hfB5cAGqxV2h"
      },
      "source": [
        "# **Preamble**\n",
        "\n",
        "**Title**: *Spotify Song Tracks Classifier*\n",
        "\n",
        "**Author**: *Dakota M. Miller*\n",
        "\n",
        "**Email**: *dmil166 @ msudenver.edu*\n",
        "\n",
        "**Last Update**: *2021-11-08*"
      ]
    },
    {
      "cell_type": "markdown",
      "metadata": {
        "id": "xC8rdbmQxYcZ"
      },
      "source": [
        "# **Introduction**\n",
        "\n",
        "The goal of this analysis is to develop classification models capable of predicting the genre of a song based on measured audio attributes.\n"
      ]
    },
    {
      "cell_type": "markdown",
      "metadata": {
        "id": "zBAUPzUkxdBk"
      },
      "source": [
        "# **Dataset**\n",
        "\n",
        "The dataset for this project is available under 'data' (genres_v2.csv) and it was obtained from [Kaggle](https://www.kaggle.com/mrmorj/dataset-of-songs-in-spotify). It consists of a collection of 42,305 song track from various musical genres, with the following audio attributes:\n",
        "\n",
        "* danceability\n",
        "* energy\n",
        "* key\n",
        "* loudness\n",
        "* speechiness\n",
        "* acousticness\n",
        "* instrumentalness\n",
        "* liveness\n",
        "* valence\n",
        "* tempo\n",
        "* duration_ms\n",
        "\n",
        "The meaning of those audio attributes are described by Spotify [here](https://developer.spotify.com/documentation/web-api/reference/#/operations/get-several-audio-features).\n",
        "\n",
        "```\n",
        "[\n",
        "danceability,energy,key,loudness,mode,speechiness,acousticness,instrumentalness,liveness,valence,tempo,type,id,uri,track_href,analysis_url,duration_ms,time_signature,genre,song_name,Unnamed: 0,title\n",
        "0.831,0.8140000000000001,2,-7.364,1,0.42,0.0598,0.0134,0.0556,0.389,156.985,audio_features,2Vc6NJ9PW9gD9q343XFRKx,spotify:track:2Vc6NJ9PW9gD9q343XFRKx,https://api.spotify.com/v1/tracks/2Vc6NJ9PW9gD9q343XFRKx,https://api.spotify.com/v1/audio-analysis/2Vc6NJ9PW9gD9q343XFRKx,124539,4,Dark Trap,Mercury: Retrograde,,\n",
        "0.7190000000000001,0.493,8,-7.23,1,0.0794,0.401,0.0,0.11800000000000001,0.124,115.08,audio_features,7pgJBLVz5VmnL7uGHmRj6p,spotify:track:7pgJBLVz5VmnL7uGHmRj6p,https://api.spotify.com/v1/tracks/7pgJBLVz5VmnL7uGHmRj6p,https://api.spotify.com/v1/audio-analysis/7pgJBLVz5VmnL7uGHmRj6p,224427,4,Dark Trap,Pathology,,\n",
        ".\n",
        ".\n",
        ".\n",
        "0.529,0.945,9,-5.862,1,0.0615,0.00189,5.45e-05,0.414,0.134,155.047,audio_features,6MAAMZImxcvYhRnxDLTufD,spotify:track:6MAAMZImxcvYhRnxDLTufD,https://api.spotify.com/v1/tracks/6MAAMZImxcvYhRnxDLTufD,https://api.spotify.com/v1/audio-analysis/6MAAMZImxcvYhRnxDLTufD,162161,4,hardstyle,,20999.0,Best of Hardstyle 2020\n",
        "]\n",
        "```"
      ]
    },
    {
      "cell_type": "markdown",
      "metadata": {
        "id": "3WX3G6b2xhEm"
      },
      "source": [
        "# **Configuration & Data Collection**"
      ]
    },
    {
      "cell_type": "markdown",
      "metadata": {
        "id": "W-iA7KI6xjYJ"
      },
      "source": [
        "## Library Imports"
      ]
    },
    {
      "cell_type": "code",
      "metadata": {
        "id": "afrJNH89xocf"
      },
      "source": [
        "import csv\n",
        "import matplotlib.pyplot as plt\n",
        "import numpy as np\n",
        "import os\n",
        "import pandas as pd\n",
        "import requests\n",
        "import sys"
      ],
      "execution_count": 1,
      "outputs": []
    },
    {
      "cell_type": "markdown",
      "metadata": {
        "id": "VPCu6k81xq-O"
      },
      "source": [
        "## Definitions/Parameters\n"
      ]
    },
    {
      "cell_type": "code",
      "metadata": {
        "id": "GyaYqAklxs_p"
      },
      "source": [
        "os.chdir(globals()['_dh'][0])\n",
        "os.chdir('../')\n",
        "DATA_FOLDER = os.path.join(os.getcwd(), 'data')\n",
        "SONG_FILE_NAME = 'genres_v2.csv'\n",
        "SONG_FILE_PATH = os.path.join(DATA_FOLDER, SONG_FILE_NAME)\n"
      ],
      "execution_count": null,
      "outputs": []
    },
    {
      "cell_type": "markdown",
      "metadata": {
        "id": "Ed3dkadFxurD"
      },
      "source": [
        "## Resources\n",
        "\n",
        "*   [Sample Website](https://www.website.com/datamining)"
      ]
    },
    {
      "cell_type": "markdown",
      "metadata": {
        "id": "XdX3zqq_x0Kg"
      },
      "source": [
        "# **Preprocessing**\n",
        "\n",
        "Description: Preprocessing: this section should contain one or more markdown text with supporting code explaining how the dataset was processed before the analysis, including attributes removal, attributes enconding, and any transformations perfomed in the original dataset.\n"
      ]
    },
    {
      "cell_type": "markdown",
      "metadata": {
        "id": "XC0UlI_gx4Zj"
      },
      "source": [
        "## Specific Preprocessing:\n",
        "* Remove column 'type'\n",
        "    * This column only had one value across all records and would not offer meaningful progress towards classification\n",
        "* Remove columns 'id', 'uri', 'track_href', 'analysis_url', 'song_name', 'Unnamed: 0', 'title'\n",
        "    * Many of these are either unique identifiers or offer other meaning (such as locations on the web) that should not be used for classification purposes\n",
        "* In order to see if it offers improvement to predictions, length of 'song_name' will be gathered, normalized, and considered with this analysis"
      ]
    },
    {
      "cell_type": "code",
      "metadata": {
        "id": "SoOLyzsAx8Lk"
      },
      "source": [
        "# TODO:\n",
        "# Read in csv as pandas dataframe\n",
        "# Delete unnecessary columns\n",
        "# Find length of song name\n",
        "# Delete song_name column\n"
      ],
      "execution_count": null,
      "outputs": []
    },
    {
      "cell_type": "markdown",
      "metadata": {
        "id": "rmOwBKZSx9yM"
      },
      "source": [
        "# **Summary Statistics**\n",
        "\n",
        "this section should present the python code that displays summary statistics and visuals from each of the attributes of the dataset; at minimum, a histogram and a multi box plot (per genre) should be produce per attribute.\n"
      ]
    },
    {
      "cell_type": "markdown",
      "metadata": {
        "id": "nKekzgoWx_j_"
      },
      "source": [
        "## SECTION_HEADER_HERE\n"
      ]
    },
    {
      "cell_type": "code",
      "metadata": {
        "id": "yAK1crTNyDo2"
      },
      "source": [
        "# TODO:\n",
        "\n"
      ],
      "execution_count": null,
      "outputs": []
    },
    {
      "cell_type": "markdown",
      "metadata": {
        "id": "ciClPgoSyFeq"
      },
      "source": [
        "# **Correlation Analysis**\n",
        "\n",
        "do at least one correlation analysis, like comparing speechiness and instrumentalness, for example.\n"
      ]
    },
    {
      "cell_type": "markdown",
      "metadata": {
        "id": "OxXPUT3byGmw"
      },
      "source": [
        "## SECTION_HEADER_HERE"
      ]
    },
    {
      "cell_type": "code",
      "metadata": {
        "id": "T5ineHjEyJcF"
      },
      "source": [
        "# TODO:\n"
      ],
      "execution_count": null,
      "outputs": []
    },
    {
      "cell_type": "markdown",
      "metadata": {
        "id": "SgqSEIclyRBd"
      },
      "source": [
        "# **Classification**\n",
        "\n",
        "show the code and results of 3 classification models based on decision tree inference, naive Bayes classification, and artificial neural networks; each classification model should be based on a consistent split between training and testing datasets; the accuracy of each model should be displayed; any specific tunning parameter used in a model should be supported by an explanatory text.\n"
      ]
    },
    {
      "cell_type": "markdown",
      "metadata": {
        "id": "slPhdYEGySMK"
      },
      "source": [
        "## SECTION_HEADER_HERE"
      ]
    },
    {
      "cell_type": "code",
      "metadata": {
        "id": "LFBLfvddyTf3"
      },
      "source": [
        "#%%\n",
        "\n",
        "# TODO:"
      ],
      "execution_count": null,
      "outputs": []
    }
  ]
}