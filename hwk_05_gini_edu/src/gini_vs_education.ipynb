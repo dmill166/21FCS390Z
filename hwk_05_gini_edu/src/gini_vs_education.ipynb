{
 "cells": [
  {
   "cell_type": "markdown",
   "source": [
    "# Preamble\n",
    "\n",
    "Title: *GINI x Education*\n",
    "\n",
    "Author: *Dakota M. Miller*\n",
    "\n",
    "Email: *dmil166 @ msudenver.edu*\n",
    "\n",
    "Last Update: *2021-10-07*\n"
   ],
   "metadata": {
    "collapsed": false
   }
  },
  {
   "cell_type": "markdown",
   "source": [
    "# Introduction\n",
    "\n",
    "The goal of this notebook is to analyze if there is a relationship between a country's Global Inequality Index (GINI) and the Education Index (combining average years of schooling for adults with expected years of schooling for children)."
   ],
   "metadata": {
    "collapsed": false
   }
  },
  {
   "cell_type": "markdown",
   "source": [
    "# Dataset\n",
    "\n",
    "The dataset for this report consists of a collection of 40 attributes from 264 countries. This study focuses on two attributes: gini and edu_index.\n",
    "\n",
    "1. \"In economics, the [Gini coefficient](https://en.wikipedia.org/wiki/Gini_coefficient) (/ˈdʒiːni/ JEE-nee), also the Gini index and the Gini ratio, is a measure of statistical dispersion intended to represent the income inequality or the wealth inequality within a nation or a social group. The Gini coefficient was developed by the statistician and sociologist Corrado Gini.\n",
    "\n",
    "<a/>\n",
    "\n",
    "* The Gini coefficient measures the inequality among values of a frequency distribution (for example, levels of income).\n",
    "    * A Gini coefficient of zero expresses perfect equality, where all values are the same (for example, where everyone has the same income).\n",
    "    * A Gini coefficient of one (or 100%) expresses maximal inequality among values (e.g., for a large number of people where only one person has all the income or consumption and all others have none, the Gini coefficient will be nearly one).\"\n",
    "\n",
    "Sample of the Gini data used:\n",
    "```\n",
    "[\n",
    "country, gini\n",
    "Abkhazia, N/A,\n",
    "Adorra, N/A,\n",
    "Afghanistan, N/A,\n",
    "Albania, 29,\n",
    "Algeria, 27.6,\n",
    "…\n",
    "…\n",
    "Zambia, 57.1\n",
    "Zimbabwe, 43.2\n",
    "]\n",
    "```\n",
    "\n",
    "\n",
    "2. \"An [Education index](https://en.wikipedia.org/wiki/Education_Index) is a component of the Human Development Index published every year by the United Nations Development Programme. Alongside the GDP Index and Life Expectancy Index, it helps measure the educational attainment, GDP per capita and life expectancy of countries.\n",
    "\n",
    "<a/>\n",
    "\n",
    "* Since 2010, the education index has been measured by combining average adult years of schooling with expected years of schooling for students under the age of 25, each receiving 50% weighting.\n",
    "* Before 2010, the education index was measured by the adult literacy rate (with two-thirds weighting) and the combined primary, secondary, and tertiary gross enrollment ratio (with one-third weighting).\"\n",
    "\n",
    "Sample of the Education Index data used:\n",
    "```\n",
    "[\n",
    "country, edu_index\n",
    "Abkhazia, N/A,\n",
    "Adorra, N/A,\n",
    "Afghanistan, 0.415,\n",
    "Albania, 0.745,\n",
    "…\n",
    "…\n",
    "Zambia, 0.58\n",
    "Zimbabwe, 0.558\n",
    "]\n",
    "```"
   ],
   "metadata": {
    "collapsed": false
   }
  },
  {
   "cell_type": "markdown",
   "source": [
    "### Library Imports"
   ],
   "metadata": {
    "collapsed": false
   }
  },
  {
   "cell_type": "code",
   "execution_count": 28,
   "outputs": [],
   "source": [
    "import matplotlib.pyplot as plt\n",
    "import numpy as np\n",
    "import pandas as pd\n",
    "from sklearn.linear_model import LinearRegression\n",
    "from sklearn.tree import DecisionTreeRegressor"
   ],
   "metadata": {
    "collapsed": false,
    "pycharm": {
     "name": "#%%\n"
    }
   }
  },
  {
   "cell_type": "markdown",
   "source": [
    "### Definitions/Parameters"
   ],
   "metadata": {
    "collapsed": false
   }
  },
  {
   "cell_type": "code",
   "execution_count": 29,
   "outputs": [],
   "source": [
    "import os\n",
    "os.chdir(globals()['_dh'][0])\n",
    "os.chdir('../')\n",
    "DATA_FOLDER = os.path.join(os.getcwd(), 'data')\n",
    "CSV_FILE_NAME = 'country_indicators.csv'\n",
    "CSV_FILE_PATH = os.path.join(DATA_FOLDER, CSV_FILE_NAME)"
   ],
   "metadata": {
    "collapsed": false,
    "pycharm": {
     "name": "#%%\n"
    }
   }
  },
  {
   "cell_type": "markdown",
   "source": [
    "CS390Z - Introduction to Data Mining - Fall 2021\n",
    "\n",
    "Student: Dakota M. Miller\n",
    "\n",
    "Description: Linear Regression"
   ],
   "metadata": {
    "collapsed": false
   }
  },
  {
   "cell_type": "code",
   "execution_count": 30,
   "outputs": [
    {
     "name": "stdout",
     "output_type": "stream",
     "text": [
      "*** Correlation Matrix ***\n",
      "           edu_index    gini\n",
      "edu_index     1.0000 -0.3715\n",
      "gini         -0.3715  1.0000\n",
      "r2 score: 0.14\n"
     ]
    },
    {
     "data": {
      "text/plain": "<Figure size 432x288 with 1 Axes>",
      "image/png": "[encoded data removed]"
     },
     "metadata": {
      "needs_background": "light"
     },
     "output_type": "display_data"
    }
   ],
   "source": [
    "if __name__ == \"__main__\":\n",
    "    # TODO: create a pandas data frame from the CSV file\n",
    "    df = pd.read_csv(CSV_FILE_PATH)\n",
    "\n",
    "    # (optional) TODO: define the country as the index for the data frame\n",
    "    df.index = df['country'].values\n",
    "\n",
    "    # (optional) TODO: remove all columns except 'gini' and 'edu_index' from the data frame\n",
    "    columns_to_drop = [column for column in df.columns if column != 'gini' and column != 'edu_index']\n",
    "    df = df.drop(columns=columns_to_drop)\n",
    "\n",
    "    # TODO: remove any country (index) that does not have both 'gini' and 'edu_index' values\n",
    "    countries_to_drop = [country for country in df.index if np.isnan(df.loc[country]['gini'])\n",
    "                         or np.isnan(df.loc[country]['edu_index'])]\n",
    "    df = df.drop(index=countries_to_drop)\n",
    "\n",
    "    # TODO: compute and display the correlation matrix between 'gini' and 'edu_index'\n",
    "    corr = df.corr()\n",
    "    print('*** Correlation Matrix ***')\n",
    "    print(corr)\n",
    "\n",
    "    # TODO: attempt a linear regression model, displaying the obtained r2 score\n",
    "    X = df['gini'].values.reshape((-1, 1))\n",
    "    Y = df['edu_index'].values.reshape((-1, 1))\n",
    "    model = LinearRegression().fit(X, Y)\n",
    "    score = model.score(X, Y)\n",
    "    print('r2 score: {:.2f}'.format(score))\n",
    "\n",
    "    # TODO: produce a visualization of the data points and the fitted line\n",
    "    Y_pred = model.predict(X)\n",
    "    plt.scatter(X, Y)\n",
    "    plt.plot(X, Y_pred, '-r')\n",
    "    plt.xlabel('GINI')\n",
    "    plt.ylabel('Education Index')\n",
    "    plt.show()"
   ],
   "metadata": {
    "collapsed": false,
    "pycharm": {
     "name": "#%%\n"
    }
   }
  },
  {
   "cell_type": "markdown",
   "source": [
    "CS390Z - Introduction to Data Mining - Fall 2021\n",
    "\n",
    "Student: Dakota M. Miller\n",
    "\n",
    "Description: Decision Tree Regression"
   ],
   "metadata": {
    "collapsed": false
   }
  },
  {
   "cell_type": "code",
   "execution_count": 31,
   "outputs": [
    {
     "name": "stdout",
     "output_type": "stream",
     "text": [
      "*** Correlation Matrix ***\n",
      "           edu_index    gini\n",
      "edu_index     1.0000 -0.3715\n",
      "gini         -0.3715  1.0000\n",
      "r2 score: 0.72\n"
     ]
    },
    {
     "data": {
      "text/plain": "<Figure size 432x288 with 1 Axes>",
      "image/png": "[encoded data removed]"
     },
     "metadata": {
      "needs_background": "light"
     },
     "output_type": "display_data"
    }
   ],
   "source": [
    "if __name__ == \"__main__\":\n",
    "\n",
    "    # TODO: create a pandas data frame from the CSV file\n",
    "    df = pd.read_csv(CSV_FILE_PATH)\n",
    "\n",
    "    # (optional) TODO: define the country as the index for the data frame\n",
    "    df.index = df['country'].values\n",
    "\n",
    "    # (optional) TODO: remove all columns except 'gini' and 'edu_index' from the data frame\n",
    "    columns_to_drop = [column for column in df.columns if column != 'gini' and column != 'edu_index']\n",
    "    df = df.drop(columns=columns_to_drop)\n",
    "\n",
    "    # TODO: remove any country (index) that does not have both 'gini' and 'edu_index' values\n",
    "    countries_to_drop = [country for country in df.index if np.isnan(df.loc[country]['gini'])\n",
    "                         or np.isnan(df.loc[country]['edu_index'])]\n",
    "    df = df.drop(index=countries_to_drop)\n",
    "\n",
    "    # TODO: compute and display the correlation matrix between 'gini' and 'edu_index'\n",
    "    corr = df.corr()\n",
    "    print('*** Correlation Matrix ***')\n",
    "    print(corr)\n",
    "\n",
    "# TODO: attempt a decision tree regression model, displaying the obtained r2 score\n",
    "    X = df['gini'].values.reshape((-1, 1))\n",
    "    Y = df['edu_index'].values.reshape((-1, 1))\n",
    "    model = DecisionTreeRegressor().fit(X, Y)\n",
    "    score = model.score(X, Y)\n",
    "    print('r2 score: {:.2f}'.format(score))\n",
    "\n",
    "# TODO: produce a visualization of the data points and the fitted points\n",
    "    Y_pred = model.predict(X)\n",
    "    plt.scatter(X, Y)\n",
    "    plt.scatter(X, Y_pred, c='red')\n",
    "    plt.xlabel('gini')\n",
    "    plt.ylabel('edu_index')\n",
    "    plt.show()"
   ],
   "metadata": {
    "collapsed": false,
    "pycharm": {
     "name": "#%%\n"
    }
   }
  }
 ],
 "metadata": {
  "kernelspec": {
   "name": "pycharm-956b2ba5",
   "language": "python",
   "display_name": "PyCharm (21FCS390Z)"
  },
  "language_info": {
   "codemirror_mode": {
    "name": "ipython",
    "version": 2
   },
   "file_extension": ".py",
   "mimetype": "text/x-python",
   "name": "python",
   "nbconvert_exporter": "python",
   "pygments_lexer": "ipython2",
   "version": "2.7.6"
  }
 },
 "nbformat": 4,
 "nbformat_minor": 0
}