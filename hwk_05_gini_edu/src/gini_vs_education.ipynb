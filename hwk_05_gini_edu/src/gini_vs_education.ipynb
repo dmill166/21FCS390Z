{
 "cells": [
  {
   "cell_type": "markdown",
   "metadata": {
    "collapsed": true,
    "pycharm": {
     "name": "#%% md\n"
    }
   },
   "source": [
    "Instructions\n",
    "Create a Jupyter notebook with the following sections completed:\n",
    "\n",
    "Dataset\n",
    "The dataset for this report consists of a collection of 40 attributes from 264 countries. This study focuses on two attributes: gini and edu_index.\n",
    "\n",
    "Linear Regression\n",
    "Finish the TO-DO's in linear_regression.py.\n",
    "\n",
    "Decision Tree Regression\n",
    "Finish the TO-DO's in decision_tree_regression.py.\n",
    "\n",
    "\n",
    "\n",
    "\n",
    "\n",
    "\n",
    "\n",
    "\n",
    "\n",
    "\n"
   ]
  },
  {
   "cell_type": "markdown",
   "source": [
    "# Preamble\n",
    "\n",
    "Title: *GINI x Education*\n",
    "\n",
    "Author: *Dakota M. Miller*\n",
    "\n",
    "Email: *dmil166 @ msudenver.edu*\n",
    "\n",
    "Last Update: *2021-10-04*\n"
   ],
   "metadata": {
    "collapsed": false
   }
  },
  {
   "cell_type": "markdown",
   "source": [
    "# Introduction\n",
    "\n",
    "The goal of this notebook is to analyze if there is a relationship between a country's Global Inequality Index (GINI) and the Education Index (combining average years of schooling for adults with expected years of schooling for children)."
   ],
   "metadata": {
    "collapsed": false
   }
  },
  {
   "cell_type": "markdown",
   "source": [
    "# Dataset\n",
    "\n",
    "The dataset for this report consists of a collection of 40 attributes from 264 countries. This study focuses on two attributes: gini and edu_index.\n",
    "\n",
    "1. \"In economics, the [Gini coefficient](https://en.wikipedia.org/wiki/Gini_coefficient) (/ˈdʒiːni/ JEE-nee), also the Gini index and the Gini ratio, is a measure of statistical dispersion intended to represent the income inequality or the wealth inequality within a nation or a social group. The Gini coefficient was developed by the statistician and sociologist Corrado Gini.\n",
    "\n",
    "<a/>\n",
    "\n",
    "* The Gini coefficient measures the inequality among values of a frequency distribution (for example, levels of income).\n",
    "    * A Gini coefficient of zero expresses perfect equality, where all values are the same (for example, where everyone has the same income).\n",
    "    * A Gini coefficient of one (or 100%) expresses maximal inequality among values (e.g., for a large number of people where only one person has all the income or consumption and all others have none, the Gini coefficient will be nearly one).\"\n",
    "\n",
    "Sample of the Gini data used:\n",
    "```\n",
    "[\n",
    "\n",
    "]\n",
    "```\n",
    "\n",
    "\n",
    "2. \"An [Education index](https://en.wikipedia.org/wiki/Education_Index) is a component of the Human Development Index published every year by the United Nations Development Programme. Alongside the GDP Index and Life Expectancy Index, it helps measure the educational attainment, GDP per capita and life expectancy of countries.\n",
    "\n",
    "<a/>\n",
    "\n",
    "* Since 2010, the education index has been measured by combining average adult years of schooling with expected years of schooling for students under the age of 25, each receiving 50% weighting.\n",
    "* Before 2010, the education index was measured by the adult literacy rate (with two-thirds weighting) and the combined primary, secondary, and tertiary gross enrollment ratio (with one-third weighting).\"\n",
    "\n",
    "Sample of the Education Index data used:\n",
    "```\n",
    "[\n",
    "\n",
    "]\n",
    "```\n"
   ],
   "metadata": {
    "collapsed": false
   }
  }
 ],
 "metadata": {
  "kernelspec": {
   "display_name": "Python 3",
   "language": "python",
   "name": "python3"
  },
  "language_info": {
   "codemirror_mode": {
    "name": "ipython",
    "version": 2
   },
   "file_extension": ".py",
   "mimetype": "text/x-python",
   "name": "python",
   "nbconvert_exporter": "python",
   "pygments_lexer": "ipython2",
   "version": "2.7.6"
  }
 },
 "nbformat": 4,
 "nbformat_minor": 0
}