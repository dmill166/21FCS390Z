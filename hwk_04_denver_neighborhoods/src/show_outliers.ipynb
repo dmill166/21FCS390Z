{
 "cells": [
  {
   "cell_type": "code",
   "execution_count": 10,
   "id": "270f46b1",
   "metadata": {},
   "outputs": [],
   "source": [
    "# CS390Z - Introduction to Data Minining - Fall 2021\n",
    "# Instructor: Thyago Mota\n",
    "# Description: Homework 04 - show outliers"
   ]
  },
  {
   "cell_type": "code",
   "execution_count": 11,
   "id": "19cebc61",
   "metadata": {},
   "outputs": [],
   "source": [
    "import csv "
   ]
  },
  {
   "cell_type": "code",
   "execution_count": 12,
   "id": "2280e562",
   "metadata": {},
   "outputs": [],
   "source": [
    "import os"
   ]
  },
  {
   "cell_type": "code",
   "execution_count": 13,
   "id": "b5a1cae6",
   "metadata": {
    "pycharm": {
     "is_executing": true
    }
   },
   "outputs": [],
   "source": [
    "import matplotlib.pyplot as plt "
   ]
  },
  {
   "cell_type": "code",
   "execution_count": 14,
   "id": "ce97b25a",
   "metadata": {
    "pycharm": {
     "is_executing": true
    }
   },
   "outputs": [],
   "source": [
    "import re"
   ]
  },
  {
   "cell_type": "code",
   "execution_count": 15,
   "id": "d90668f1",
   "metadata": {
    "pycharm": {
     "is_executing": true
    }
   },
   "outputs": [],
   "source": [
    "# definitions/parameters\n",
    "DATA_FOLDER = '../data'\n",
    "CSV_FILE_NAME = 'denver_neighborhoods.csv'\n",
    "\n",
    "# Google drive mount\n",
    "# drive.mount('/content/drive')"
   ]
  },
  {
   "cell_type": "code",
   "execution_count": 16,
   "id": "5ba4904d",
   "metadata": {
    "pycharm": {
     "is_executing": true,
     "name": "#%%\n"
    }
   },
   "outputs": [],
   "source": [
    "# Refresher on F Strings:\n",
    "#   https://www.freecodecamp.org/news/python-new-line-and-how-to-python-print-without-a-newline/\n",
    "# Referenced original repo & README often:\n",
    "#   https://github.com/thyagomota/21FCS390Z/blob/main/hwk_04_denver_neighborhoods/src/show_outliers.py\n",
    "# Referenced this to understand I was interacting with dictionary elements:\n",
    "#   http://blog.bharatbhole.com/creating-boxplots-with-matplotlib/\n",
    "# Referenced documentation multiple times\n",
    "#   https://matplotlib.org/stable/api/_as_gen/matplotlib.pyplot.boxplot.html\n",
    "# Referenced peer to understand first #to do (not intentional, lingering from activity11)\n",
    "#   Robert Koning\n",
    "# Further reinforced understanding that boxplot can be accessed as dictionary\n",
    "#   https://stackoverflow.com/questions/23349626/getting-data-of-a-box-plot-matplotlib"
   ]
  },
  {
   "cell_type": "code",
   "execution_count": 17,
   "id": "d1653666",
   "metadata": {
    "pycharm": {
     "is_executing": true
    }
   },
   "outputs": [],
   "source": [
    "def min_max(data, mins, maxs, interval=(0,1)):\n",
    "    return [ int(((data[i] - mins[i]) / (maxs[i] - mins[i]) * (interval[1] - interval[0]) + interval[0]) * 100000) / 100000 for i in range(len(data))]"
   ]
  },
  {
   "cell_type": "code",
   "execution_count": 18,
   "id": "0075df70",
   "metadata": {
    "pycharm": {
     "is_executing": true,
     "name": "#%%\n"
    }
   },
   "outputs": [
    {
     "name": "stdout",
     "output_type": "stream",
     "text": [
      "Hilltop has homes priced much higher compared to others. \n",
      "\tNormalized compare: Hilltop 0.75735 vs. maximum 0.32767\n",
      "Country Club has homes priced much higher compared to others. \n",
      "\tNormalized compare: Country Club 1.0 vs. maximum 0.32767\n",
      "Was. Park has homes priced much higher compared to others. \n",
      "\tNormalized compare: Was. Park 0.47778 vs. maximum 0.32767\n",
      "Hampden is much more populated compared to the others. \n",
      "\tNormalized compare: Hampden 1.0 vs. maximum 0.92664\n",
      "Virginia Village has a school score average much lower compared to others. \n",
      "\tNormalized compare: Virginia Village 0.0 vs. minimum 0.25\n"
     ]
    },
    {
     "data": {
      "image/png": "[encoded data removed]",
      "text/plain": [
       "<Figure size 432x288 with 1 Axes>"
      ]
     },
     "metadata": {
      "needs_background": "light"
     },
     "output_type": "display_data"
    }
   ],
   "source": [
    "if __name__ == \"__main__\":\n",
    "\n",
    "    matrix = []\n",
    "    neighborhoods = []\n",
    "    with open(os.path.join(DATA_FOLDER, CSV_FILE_NAME), 'rt') as csv_file:\n",
    "        reader = csv.reader(csv_file)\n",
    "        row_count = 0\n",
    "        for row in reader:\n",
    "            row_count += 1\n",
    "            if row_count == 1:\n",
    "                continue\n",
    "            row[0] = re.sub('Washington', 'Was.', row[0])\n",
    "            row[0] = re.sub('South', 'S.', row[0])\n",
    "            neighborhoods.append(row[0])\n",
    "            data = [int(row[1]), int(row[2]), float(row[3]), int(row[4]), float(row[5])]\n",
    "            if row_count == 2:\n",
    "                mins = list(data)\n",
    "                maxs = list(data)\n",
    "            else:\n",
    "                for i in range(len(data)):\n",
    "                    mins[i] = min(mins[i], data[i])\n",
    "                    maxs[i] = max(maxs[i], data[i])\n",
    "            matrix.append(data)\n",
    "\n",
    "    # print(mins)\n",
    "    # print(maxs)\n",
    "    matrix = [min_max(data, mins, maxs) for data in matrix]\n",
    "    # print(matrix)\n",
    "\n",
    "    columns = [[], [], [], [], []]\n",
    "    for data in matrix:\n",
    "        for i in range(5):\n",
    "            columns[i].append(data[i])\n",
    "    bp = plt.boxplot(columns)\n",
    "    axes = plt.gca()\n",
    "    col_labels = ['pop', 'home$', 'schools', 'crime', 'x factor']\n",
    "    axes.set_xticklabels(col_labels)\n",
    "    plt.title('Neighborhoods in the Denver Metro Area')\n",
    "    plt.ylabel('Normalized Values')\n",
    "\n",
    "    # TODO: evaluate outliers in population\n",
    "    pop_min_outlier_txt = \"is much less populated compared to the others.\"\n",
    "    pop_max_outlier_txt = \"is much more populated compared to the others.\"\n",
    "    home_price_min_outlier_txt = \"has homes priced much lower compared to others.\"\n",
    "    home_price_max_outlier_txt = \"has homes priced much higher compared to others.\"\n",
    "    school_score_min_outlier_txt = \"has a school score average much lower compared to others.\"\n",
    "    school_score_max_outlier_txt = \"has a school score average much higher compared to others.\"\n",
    "    crime_rate_min_outlier_txt = \"has a crime rate much lower compared to others.\"\n",
    "    crime_rate_max_outlier_txt = \"has a crime rate much higher compared to others.\"\n",
    "    x_factor_min_outlier_txt = \"has an x factor much lower compared to others.\"\n",
    "    x_factor_max_outlier_txt = \"has an x factor much higher compared to others.\"\n",
    "\n",
    "    min_txt_list = [pop_min_outlier_txt, home_price_min_outlier_txt, school_score_min_outlier_txt, crime_rate_min_outlier_txt, x_factor_min_outlier_txt]\n",
    "    max_txt_list = [pop_max_outlier_txt, home_price_max_outlier_txt, school_score_max_outlier_txt, crime_rate_max_outlier_txt, x_factor_max_outlier_txt]\n",
    "\n",
    "    plot_norm_min = []\n",
    "    plot_norm_max = []\n",
    "    counter = 0\n",
    "    for whisker in bp['whiskers']:\n",
    "        if counter % 2 == 0:\n",
    "            plot_norm_min.append(whisker.get_xydata()[1][1])\n",
    "        elif counter % 2 == 1:\n",
    "            plot_norm_max.append(whisker.get_xydata()[1][1])\n",
    "        counter += 1\n",
    "\n",
    "    min_outliers = []\n",
    "    max_outliers = []\n",
    "    index = 0\n",
    "    for row in matrix:\n",
    "        neighborhood = neighborhoods[index]\n",
    "        for inner_index in range(len(row)):\n",
    "            if row[inner_index] < plot_norm_min[inner_index]:\n",
    "                compare_txt = neighborhood + ' ' + str(row[inner_index]) + ' ' + 'vs. minimum' + \\\n",
    "                              ' ' + str(plot_norm_min[inner_index])\n",
    "                print(f\"{neighborhood} {min_txt_list[inner_index]} \\n\\tNormalized compare: {compare_txt}\")\n",
    "            elif row[inner_index] > plot_norm_max[inner_index]:\n",
    "                compare_txt = neighborhood + ' ' + str(row[inner_index]) + ' ' + 'vs. maximum' + \\\n",
    "                              ' ' + str(plot_norm_max[inner_index])\n",
    "                print(f\"{neighborhood} {max_txt_list[inner_index]} \\n\\tNormalized compare: {compare_txt}\")\n",
    "        index += 1\n",
    "    plt.show()"
   ]
  }
 ],
 "metadata": {
  "kernelspec": {
   "name": "pycharm-956b2ba5",
   "language": "python",
   "display_name": "PyCharm (21FCS390Z)"
  },
  "language_info": {
   "codemirror_mode": {
    "name": "ipython",
    "version": 3
   },
   "file_extension": ".py",
   "mimetype": "text/x-python",
   "name": "python",
   "nbconvert_exporter": "python",
   "pygments_lexer": "ipython3",
   "version": "3.9.7"
  }
 },
 "nbformat": 4,
 "nbformat_minor": 5
}