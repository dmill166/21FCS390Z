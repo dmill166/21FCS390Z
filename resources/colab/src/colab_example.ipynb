{
  "nbformat": 4,
  "nbformat_minor": 0,
  "metadata": {
    "colab": {
      "name": "colab_example.ipynb",
      "provenance": [],
      "authorship_tag": "ABX9TyMt6BcIs/1uIdddlqQXNLkd",
      "include_colab_link": true
    },
    "kernelspec": {
      "name": "python3",
      "display_name": "Python 3"
    },
    "language_info": {
      "name": "python"
    }
  },
  "cells": [
    {
      "cell_type": "markdown",
      "metadata": {
        "id": "view-in-github",
        "colab_type": "text"
      },
      "source": [
        "<a href=\"https://colab.research.google.com/github/thyagomota/21FCS390Z/blob/main/resources/colab/src/colab_example.ipynb\" target=\"_parent\"><img src=\"https://colab.research.google.com/assets/colab-badge.svg\" alt=\"Open In Colab\"/></a>"
      ]
    },
    {
      "cell_type": "code",
      "metadata": {
        "colab": {
          "base_uri": "https://localhost:8080/",
          "height": 350
        },
        "id": "BzQR3GVFAyju",
        "outputId": "420e7aa0-dfe3-450f-edcc-d7c4f885ce16"
      },
      "source": [
        "%matplotlib inline\n",
        "import matplotlib.pyplot as plt\n",
        "import statistics as stats\n",
        "import csv\n",
        "import os\n",
        "from google.colab import drive\n",
        "drive.mount('/content/drive')\n",
        "\n",
        "DATA_FOLDER = '/content/drive/MyDrive/Colab Datasets/ames_dataset'\n",
        "DATA_FILE   = 'train.csv'\n",
        "NEIGHBORHOODS_TO_COMPARE = ['Blmngtn', 'Blueste', 'BrDale', 'BrkSide', 'ClearCr', 'CollgCr', 'Crawfor']\n",
        "\n",
        "nbhoods = []\n",
        "prices = []\n",
        "with open(os.path.join(DATA_FOLDER, DATA_FILE), 'rt') as csv_file:\n",
        "    row_number = 0\n",
        "    for row in csv.reader(csv_file):\n",
        "        row_number += 1\n",
        "        if row_number == 1:\n",
        "            continue\n",
        "        nbhood = row[12]\n",
        "        if nbhood not in NEIGHBORHOODS_TO_COMPARE:\n",
        "            continue\n",
        "        if nbhood not in nbhoods:\n",
        "            nbhoods.append(nbhood)\n",
        "            prices.append([])\n",
        "        index = nbhoods.index(nbhood)\n",
        "        price = int(row[80])\n",
        "        prices[index].append(price)\n",
        "        \n",
        "\n",
        "medians = [ stats.median(nbhood_prices) for nbhood_prices in prices ]\n",
        "plt.boxplot(prices)\n",
        "axes = plt.gca()\n",
        "axes.spines['right'].set_visible(False)\n",
        "axes.spines['top'].set_visible(False)\n",
        "axes.set_xticklabels(nbhoods)\n",
        "plt.xlabel('Ames Neighborhoods')\n",
        "plt.ylabel('House Prices')\n",
        "plt.show()"
      ],
      "execution_count": null,
      "outputs": [
        {
          "output_type": "stream",
          "name": "stdout",
          "text": [
            "Mounted at /content/drive\n"
          ]
        },
        {
          "output_type": "stream",
          "name": "stderr",
          "text": [
            "/usr/local/lib/python3.7/dist-packages/numpy/core/_asarray.py:83: VisibleDeprecationWarning: Creating an ndarray from ragged nested sequences (which is a list-or-tuple of lists-or-tuples-or ndarrays with different lengths or shapes) is deprecated. If you meant to do this, you must specify 'dtype=object' when creating the ndarray\n",
            "  return array(a, dtype, copy=False, order=order)\n"
          ]
        },
        {
          "output_type": "display_data",
          "data": {
            "image/png": "[encoded data removed]",
            "text/plain": [
              "<Figure size 432x288 with 1 Axes>"
            ]
          },
          "metadata": {
            "needs_background": "light"
          }
        }
      ]
    }
  ]
}