{
 "cells": [
  {
   "cell_type": "code",
   "execution_count": 49,
   "id": "5aaaadeb",
   "metadata": {},
   "outputs": [],
   "source": [
    "# CS390Z - Introduction to Data Minining - Fall 2021\n",
    "# Instructor: Thyago Mota\n",
    "# Description: Activity 11: a simple scraper\n",
    "\n",
    "# Resources\n",
    "# "
   ]
  },
  {
   "cell_type": "code",
   "execution_count": 50,
   "id": "5e2d550e",
   "metadata": {},
   "outputs": [],
   "source": [
    "import csv"
   ]
  },
  {
   "cell_type": "code",
   "execution_count": 51,
   "id": "92737bd5",
   "metadata": {},
   "outputs": [],
   "source": [
    "import re"
   ]
  },
  {
   "cell_type": "code",
   "execution_count": 52,
   "id": "bf27f92a",
   "metadata": {},
   "outputs": [],
   "source": [
    "import os"
   ]
  },
  {
   "cell_type": "code",
   "execution_count": 53,
   "id": "f13a423f",
   "metadata": {},
   "outputs": [],
   "source": [
    "import requests"
   ]
  },
  {
   "cell_type": "code",
   "execution_count": 54,
   "id": "4e663cd3",
   "metadata": {},
   "outputs": [],
   "source": [
    "import math"
   ]
  },
  {
   "cell_type": "code",
   "execution_count": 55,
   "id": "3b823597",
   "metadata": {},
   "outputs": [],
   "source": [
    "import matplotlib.pyplot as plt"
   ]
  },
  {
   "cell_type": "code",
   "execution_count": 56,
   "id": "0df7e9bf",
   "metadata": {},
   "outputs": [],
   "source": [
    "from matplotlib import cm as cm"
   ]
  },
  {
   "cell_type": "code",
   "execution_count": 57,
   "id": "c3a26f51",
   "metadata": {},
   "outputs": [],
   "source": [
    "from bs4 import BeautifulSoup"
   ]
  },
  {
   "cell_type": "code",
   "execution_count": 58,
   "id": "b5b18361",
   "metadata": {},
   "outputs": [],
   "source": [
    "# definitions/parameters\n",
    "os.chdir(globals()['_dh'][0])\n",
    "os.chdir('../')\n",
    "DATA_FOLDER = os.path.join(os.getcwd(), 'data')\n",
    "CSV_FILE_NAME = 'denver_neighborhoods.csv'\n",
    "CSV_FILE_PATH = os.path.join(DATA_FOLDER, CSV_FILE_NAME)\n",
    "BASE_URL = 'https://www.5280.com/neighborhoods/'\n",
    "HEADERS = {\"User-Agent\": \"Mozilla/5.0 (X11; CrOS x86_64 12871.102.0) AppleWebKit/537.36 (KHTML, like Gecko) Chrome/81.0.4044.141 Safari/537.36\"}"
   ]
  },
  {
   "cell_type": "code",
   "execution_count": 59,
   "id": "34f4c916",
   "metadata": {},
   "outputs": [],
   "source": [
    "def remove_tags(s): \n",
    "    tag = re.compile('<.*?>')\n",
    "    return re.sub(tag, '', s)"
   ]
  },
  {
   "cell_type": "code",
   "execution_count": 60,
   "id": "86a231b1",
   "metadata": {},
   "outputs": [],
   "source": [
    "if __name__ == \"__main__\":\n",
    "\n",
    "    with open(os.path.join(DATA_FOLDER, CSV_FILE_NAME), 'wt') as csv_file:\n",
    "        writer = csv.writer(csv_file)\n",
    "        writer.writerow(['name','population','home_price','schools_score','crime_rank','x_factor'])\n",
    "        content = requests.get(BASE_URL, headers=HEADERS).content\n",
    "        soup = BeautifulSoup(content, 'html.parser')\n",
    "        trs = soup.find_all('tr')\n",
    "        for tr in trs:\n",
    "            row = []\n",
    "            tds = tr.find_all('td')\n",
    "            if len(tds) == 0:\n",
    "                continue\n",
    "            a = tds[0].find('a')\n",
    "            row.append(a.contents[0].strip())\n",
    "            pop = tds[2].contents[0]\n",
    "            pop = re.sub(',', '', pop)\n",
    "            row.append(int(pop))\n",
    "            price = tds[3].contents[0]\n",
    "            price = re.sub('[$,]', '', price)\n",
    "            row.append(int(price))\n",
    "            school = tds[6].contents[0]\n",
    "            row.append(float(school))\n",
    "            crime = tds[7].contents[0]\n",
    "            row.append(int(crime))\n",
    "            xfactor = tds[8].contents[0]\n",
    "            row.append(float(xfactor))\n",
    "            writer.writerow(row)"
   ]
  },
  {
   "cell_type": "code",
   "execution_count": 61,
   "id": "851bd31e",
   "metadata": {},
   "outputs": [],
   "source": [
    "os.chdir(globals()['_dh'][0])\n",
    "os.chdir('../')\n",
    "DATA_FOLDER = os.path.join(os.getcwd(), 'data')\n",
    "CSV_FILE_NAME = 'denver_neighborhoods.csv'\n",
    "CSV_FILE_PATH = os.path.join(DATA_FOLDER, CSV_FILE_NAME)"
   ]
  },
  {
   "cell_type": "code",
   "execution_count": 62,
   "id": "75bd8f4e",
   "metadata": {},
   "outputs": [],
   "source": [
    "def min_max(data, mins, maxs, interval=(0,1)):\n",
    "    return [ int(((data[i] - mins[i]) / (maxs[i] - mins[i]) * (interval[1] - interval[0]) + interval[0]) * 100000) / 100000 for i in range(len(data))]\n"
   ]
  },
  {
   "cell_type": "code",
   "execution_count": 63,
   "id": "895eb6fe",
   "metadata": {},
   "outputs": [],
   "source": [
    "def eucl_dist(a, b): \n",
    "    sum = 0\n",
    "    for i in range(len(a)):\n",
    "        sum += (a[i] - b[i])**2\n",
    "    return int((1 - math.sqrt(sum / len(a))) * 100000) / 100000"
   ]
  },
  {
   "cell_type": "code",
   "execution_count": 64,
   "id": "83fffc78",
   "metadata": {},
   "outputs": [
    {
     "name": "stdout",
     "output_type": "stream",
     "text": [
      "[0.37854, 0.75735, 0.825, 0.08823, 0.76923]\n",
      "[0.0, 1.0, 0.6, 0.14705, 0.76923]\n",
      "1.0\n",
      "0.77361\n",
      "0.78342\n"
     ]
    },
    {
     "data": {
      "image/png": "[encoded data removed]",
      "text/plain": [
       "<Figure size 288x288 with 2 Axes>"
      ]
     },
     "metadata": {
      "needs_background": "light"
     },
     "output_type": "display_data"
    }
   ],
   "source": [
    "# TODO: finish the similarity analysis\n",
    "if __name__ == \"__main__\":\n",
    "\n",
    "    neighborhoods = []\n",
    "    matrix = []\n",
    "    with open(os.path.join(DATA_FOLDER, CSV_FILE_NAME), 'rt') as csv_file:\n",
    "        reader = csv.reader(csv_file)\n",
    "        row_count = 0\n",
    "        for row in reader:\n",
    "            row_count += 1\n",
    "            if row_count == 1:\n",
    "                continue\n",
    "            row[0] = re.sub('Washington', 'Was.', row[0])\n",
    "            row[0] = re.sub('South', 'S.', row[0])\n",
    "            neighborhoods.append(row[0])\n",
    "            data = [ int(row[1]), int(row[2]), float(row[3]), int(row[4]), float(row[5])]\n",
    "            if row_count == 2:\n",
    "                mins = list(data)\n",
    "                maxs = list(data)\n",
    "            else:\n",
    "                for i in range(len(data)):\n",
    "                    mins[i] = min(mins[i], data[i])\n",
    "                    maxs[i] = max(maxs[i], data[i])\n",
    "            matrix.append(data)\n",
    "    # print(mins)\n",
    "    # print(maxs)\n",
    "    matrix = [ min_max(data, mins, maxs) for data in matrix ]\n",
    "    # print(matrix)\n",
    "    \n",
    "\n",
    "    print(matrix[0])\n",
    "    print(matrix[1])\n",
    "    print(eucl_dist(matrix[0], matrix[0]))\n",
    "    print(eucl_dist(matrix[1], matrix[0]))\n",
    "    print(eucl_dist(matrix[2], matrix[0]))\n",
    "    \n",
    "    dm = []\n",
    "    for i in range(len(matrix)):\n",
    "        row = []\n",
    "        for j in range(len(matrix)):\n",
    "            row.append(eucl_dist(matrix[i], matrix[j]))\n",
    "        dm.append(row)\n",
    "    plt.rc('font', size=6) \n",
    "    cmap = cm.get_cmap('YlOrBr')\n",
    "    img = plt.matshow(dm, cmap=cmap)\n",
    "    axes = plt.gca()\n",
    "    axes.set_yticks(list(range(len(neighborhoods))))\n",
    "    axes.set_yticklabels(neighborhoods)\n",
    "    axes.set_xticks(list(range(len(neighborhoods))))\n",
    "    axes.set_xticklabels(neighborhoods, rotation=90)\n",
    "    fig = plt.gcf() # reference to the plot\n",
    "    ticks = [x / 10 for x in range(1, 11)]\n",
    "    fig.colorbar(img, ticks=ticks)\n",
    "    fig.subplots_adjust(top=0.2)\n",
    "    plt.show()"
   ]
  }
 ],
 "metadata": {
  "interpreter": {
   "hash": "aee8b7b246df8f9039afb4144a1f6fd8d2ca17a180786b69acc140d282b71a49"
  },
  "kernelspec": {
   "display_name": "PyCharm (21FCS390Z)",
   "language": "python",
   "name": "pycharm-956b2ba5"
  },
  "language_info": {
   "codemirror_mode": {
    "name": "ipython",
    "version": 3
   },
   "file_extension": ".py",
   "mimetype": "text/x-python",
   "name": "python",
   "nbconvert_exporter": "python",
   "pygments_lexer": "ipython3",
   "version": "3.8.0"
  }
 },
 "nbformat": 4,
 "nbformat_minor": 5
}
