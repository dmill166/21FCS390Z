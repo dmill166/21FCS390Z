{
 "cells": [
  {
   "cell_type": "code",
   "execution_count": 1,
   "source": [
    "# CS390Z - Introduction to Data Minining - Fall 2021\n",
    "# Instructor: Thyago Mota\n",
    "# Description: Activity 11: a simple scraper\n",
    "\n",
    "# Resources\n",
    "# "
   ],
   "outputs": [],
   "metadata": {}
  },
  {
   "cell_type": "code",
   "execution_count": 2,
   "source": [
    "import csv"
   ],
   "outputs": [],
   "metadata": {}
  },
  {
   "cell_type": "code",
   "execution_count": 3,
   "source": [
    "import re"
   ],
   "outputs": [],
   "metadata": {}
  },
  {
   "cell_type": "code",
   "execution_count": 4,
   "source": [
    "import os"
   ],
   "outputs": [],
   "metadata": {}
  },
  {
   "cell_type": "code",
   "execution_count": 5,
   "source": [
    "import requests"
   ],
   "outputs": [],
   "metadata": {}
  },
  {
   "cell_type": "code",
   "execution_count": 6,
   "source": [
    "from bs4 import BeautifulSoup"
   ],
   "outputs": [],
   "metadata": {}
  },
  {
   "cell_type": "code",
   "execution_count": 7,
   "source": [
    "# definitions/parameters\n",
    "original_path = os.getcwd()\n",
    "os.chdir(os.path.abspath(''))\n",
    "os.chdir('../')\n",
    "DATA_FOLDER = os.path.join(os.getcwd(), 'data')\n",
    "CSV_FILE_NAME = 'denver_neighborhoods.csv'\n",
    "CSV_FILE_PATH = os.path.join(DATA_FOLDER, CSV_FILE_NAME)\n",
    "BASE_URL = 'https://www.5280.com/neighborhoods/'\n",
    "HEADERS = {\"User-Agent\": \"Mozilla/5.0 (X11; CrOS x86_64 12871.102.0) AppleWebKit/537.36 (KHTML, like Gecko) Chrome/81.0.4044.141 Safari/537.36\"}"
   ],
   "outputs": [],
   "metadata": {}
  },
  {
   "cell_type": "code",
   "execution_count": 8,
   "source": [
    "def remove_tags(s): \n",
    "    tag = re.compile('<.*?>')\n",
    "    return re.sub(tag, '', s)"
   ],
   "outputs": [],
   "metadata": {}
  },
  {
   "cell_type": "code",
   "execution_count": 9,
   "source": [
    "# TODO: finish the scraper\n",
    "if __name__ == \"__main__\":\n",
    "    \n",
    "    #HTML Scrape\n",
    "    session = requests.Session()\n",
    "    response = session.get(BASE_URL, headers=HEADERS)\n",
    "    \n",
    "    html_soup = BeautifulSoup(response.text, 'html.parser')\n",
    "\n",
    "    container = html_soup.find_all([\"h2\", \"h3\"], \n",
    "                               class_=lambda x: x != 'hidden')\n",
    "    for lines in container:\n",
    "        if lines.name == 'h2': \n",
    "            province = lines.text\n",
    "            print('In', province, \"\\n\")\n",
    "        if lines.name == 'h3':\n",
    "            foundation = lines.text\n",
    "            print('Foundation name:', foundation)   \n",
    "            print('Foundation url:', lines.find_all(\"a\", \n",
    "                href=re.compile(\"cfc_locations\"))[0].get('href'), \"\\n\")\n"
   ],
   "outputs": [
    {
     "output_type": "stream",
     "name": "stdout",
     "text": [
      "In The Process \n",
      "\n",
      "In Neighborhood Map \n",
      "\n",
      "In Find What You Need \n",
      "\n",
      "In Compare Neighborhoods \n",
      "\n",
      "In Sign Up For Our Newsletters \n",
      "\n",
      "Foundation name: Magazine\n"
     ]
    },
    {
     "output_type": "error",
     "ename": "IndexError",
     "evalue": "list index out of range",
     "traceback": [
      "\u001b[0;31m---------------------------------------------------------------------------\u001b[0m",
      "\u001b[0;31mIndexError\u001b[0m                                Traceback (most recent call last)",
      "\u001b[0;32m/var/folders/9x/v176y6kx7js27mvdnptl7hqc0000gn/T/ipykernel_12380/2438230821.py\u001b[0m in \u001b[0;36m<module>\u001b[0;34m\u001b[0m\n\u001b[1;32m     17\u001b[0m             \u001b[0mfoundation\u001b[0m \u001b[0;34m=\u001b[0m \u001b[0mlines\u001b[0m\u001b[0;34m.\u001b[0m\u001b[0mtext\u001b[0m\u001b[0;34m\u001b[0m\u001b[0;34m\u001b[0m\u001b[0m\n\u001b[1;32m     18\u001b[0m             \u001b[0mprint\u001b[0m\u001b[0;34m(\u001b[0m\u001b[0;34m'Foundation name:'\u001b[0m\u001b[0;34m,\u001b[0m \u001b[0mfoundation\u001b[0m\u001b[0;34m)\u001b[0m\u001b[0;34m\u001b[0m\u001b[0;34m\u001b[0m\u001b[0m\n\u001b[0;32m---> 19\u001b[0;31m             print('Foundation url:', lines.find_all(\"a\", \n\u001b[0m\u001b[1;32m     20\u001b[0m                 href=re.compile(\"cfc_locations\"))[0].get('href'), \"\\n\")\n",
      "\u001b[0;31mIndexError\u001b[0m: list index out of range"
     ]
    }
   ],
   "metadata": {}
  },
  {
   "cell_type": "code",
   "execution_count": null,
   "source": [],
   "outputs": [],
   "metadata": {}
  }
 ],
 "metadata": {
  "kernelspec": {
   "name": "python3",
   "display_name": "Python 3.8.0 64-bit"
  },
  "language_info": {
   "codemirror_mode": {
    "name": "ipython",
    "version": 3
   },
   "file_extension": ".py",
   "mimetype": "text/x-python",
   "name": "python",
   "nbconvert_exporter": "python",
   "pygments_lexer": "ipython3",
   "version": "3.8.0"
  },
  "interpreter": {
   "hash": "aee8b7b246df8f9039afb4144a1f6fd8d2ca17a180786b69acc140d282b71a49"
  }
 },
 "nbformat": 4,
 "nbformat_minor": 5
}