{
 "nbformat": 4,
 "nbformat_minor": 0,
 "metadata": {
  "colab": {
   "name": "Songs_Classifier_v2.ipynb",
   "provenance": [],
   "collapsed_sections": [],
   "history_visible": true,
   "include_colab_link": true
  },
  "kernelspec": {
   "name": "python3",
   "display_name": "Python 3"
  },
  "language_info": {
   "name": "python"
  }
 },
 "cells": [
  {
   "cell_type": "markdown",
   "metadata": {
    "id": "view-in-github",
    "colab_type": "text"
   },
   "source": [
    "<a href=\"https://colab.research.google.com/github/dmill166/datamining-learning/blob/main/Songs_Classifier_v2.ipynb\" target=\"_parent\"><img src=\"https://colab.research.google.com/assets/colab-badge.svg\" alt=\"Open In Colab\"/></a>"
   ]
  },
  {
   "cell_type": "markdown",
   "metadata": {
    "id": "hfB5cAGqxV2h"
   },
   "source": [
    "# **Preamble**\n",
    "\n",
    "**Title**: *Spotify Song Tracks Classifier*\n",
    "\n",
    "**Author**: *Dakota M. Miller*\n",
    "\n",
    "**Email**: *dmil166 @ msudenver.edu*\n",
    "\n",
    "**Last Update**: *2021-11-14*"
   ]
  },
  {
   "cell_type": "markdown",
   "metadata": {
    "id": "xC8rdbmQxYcZ"
   },
   "source": [
    "# **Introduction**\n",
    "\n",
    "The goal of this analysis is to develop classification models capable of predicting the genre of a song based on measured audio attributes.\n"
   ]
  },
  {
   "cell_type": "markdown",
   "metadata": {
    "id": "zBAUPzUkxdBk"
   },
   "source": [
    "# **Dataset**\n",
    "\n",
    "The dataset for this project is available under 'data' (genres_v2.csv) and it was obtained from [Kaggle](https://www.kaggle.com/mrmorj/dataset-of-songs-in-spotify). It consists of a collection of 42,305 song track from various musical genres, with the following audio attributes:\n",
    "\n",
    "* danceability\n",
    "* energy\n",
    "* key\n",
    "* loudness\n",
    "* speechiness\n",
    "* acousticness\n",
    "* instrumentalness\n",
    "* liveness\n",
    "* valence\n",
    "* tempo\n",
    "* duration_ms\n",
    "\n",
    "The meaning of those audio attributes are described by Spotify [here](https://developer.spotify.com/documentation/web-api/reference/#/operations/get-several-audio-features).\n",
    "\n",
    "```\n",
    "[\n",
    "danceability,energy,key,loudness,mode,speechiness,acousticness,instrumentalness,liveness,valence,tempo,type,id,uri,track_href,analysis_url,duration_ms,time_signature,genre,song_name,Unnamed: 0,title\n",
    "0.831,0.8140000000000001,2,-7.364,1,0.42,0.0598,0.0134,0.0556,0.389,156.985,audio_features,2Vc6NJ9PW9gD9q343XFRKx,spotify:track:2Vc6NJ9PW9gD9q343XFRKx,https://api.spotify.com/v1/tracks/2Vc6NJ9PW9gD9q343XFRKx,https://api.spotify.com/v1/audio-analysis/2Vc6NJ9PW9gD9q343XFRKx,124539,4,Dark Trap,Mercury: Retrograde,,\n",
    "0.7190000000000001,0.493,8,-7.23,1,0.0794,0.401,0.0,0.11800000000000001,0.124,115.08,audio_features,7pgJBLVz5VmnL7uGHmRj6p,spotify:track:7pgJBLVz5VmnL7uGHmRj6p,https://api.spotify.com/v1/tracks/7pgJBLVz5VmnL7uGHmRj6p,https://api.spotify.com/v1/audio-analysis/7pgJBLVz5VmnL7uGHmRj6p,224427,4,Dark Trap,Pathology,,\n",
    ".\n",
    ".\n",
    ".\n",
    "0.529,0.945,9,-5.862,1,0.0615,0.00189,5.45e-05,0.414,0.134,155.047,audio_features,6MAAMZImxcvYhRnxDLTufD,spotify:track:6MAAMZImxcvYhRnxDLTufD,https://api.spotify.com/v1/tracks/6MAAMZImxcvYhRnxDLTufD,https://api.spotify.com/v1/audio-analysis/6MAAMZImxcvYhRnxDLTufD,162161,4,hardstyle,,20999.0,Best of Hardstyle 2020\n",
    "]\n",
    "```"
   ]
  },
  {
   "cell_type": "markdown",
   "metadata": {
    "id": "3WX3G6b2xhEm"
   },
   "source": [
    "# **Configuration & Data Collection**"
   ]
  },
  {
   "cell_type": "markdown",
   "metadata": {
    "id": "W-iA7KI6xjYJ"
   },
   "source": [
    "## Library Imports"
   ]
  },
  {
   "cell_type": "code",
   "metadata": {
    "id": "afrJNH89xocf"
   },
   "source": [
    "import csv\n",
    "from google.colab import drive\n",
    "import matplotlib.pyplot as plt\n",
    "import numpy as np\n",
    "import os\n",
    "import pandas as pd\n",
    "import requests\n",
    "import statistics as stats\n",
    "import sys"
   ],
   "execution_count": null,
   "outputs": []
  },
  {
   "cell_type": "markdown",
   "metadata": {
    "id": "VPCu6k81xq-O"
   },
   "source": [
    "## Definitions/Parameters\n"
   ]
  },
  {
   "cell_type": "code",
   "metadata": {
    "id": "GyaYqAklxs_p",
    "colab": {
     "base_uri": "https://localhost:8080/"
    },
    "outputId": "b87fa20d-11ef-48df-a61d-19ed90f90882"
   },
   "source": [
    "drive.mount('/content/drive')"
   ],
   "execution_count": null,
   "outputs": []
  },
  {
   "cell_type": "markdown",
   "metadata": {
    "id": "Ed3dkadFxurD"
   },
   "source": [
    "## Resources\n",
    "\n",
    "*   [Learn how to import files into Google Colab](https://towardsdatascience.com/google-colab-import-and-export-datasets-eccf801e2971)\n",
    "*   [Troubleshoot dropping dataframe columns](https://pandas.pydata.org/pandas-docs/stable/reference/api/pandas.DataFrame.drop.html) and [again](https://stackoverflow.com/questions/38288372/unable-to-drop-a-column-from-pandas-dataframe)\n",
    "*   [Affect a column of a dataframe with a function](https://stackoverflow.com/questions/34962104/how-can-i-use-the-apply-function-for-a-single-column)\n",
    "*   [Extracting unique values and positions from NumPy Array](https://numpy.org/doc/stable/reference/generated/numpy.unique.html)\n",
    "*   [Used a mix of this site and another I can't find now to figure how to split into multiple sub-arrays based on genre](https://numpy.org/devdocs/reference/generated/numpy.unique.html)\n",
    "*   [Located resource to accurately express myself during this project](https://looks.wtf/flipping-tables)\n",
    "*   [Researched transpose function for iterative collection building](https://numpy.org/doc/stable/reference/generated/numpy.ndarray.transpose.html)\n",
    "*   [Leveraged NumPy to calculate attribute statistics, including q1 and q3](https://numpy.org/doc/stable/reference/generated/numpy.quantile.html)\n",
    "*   [Found online guide and modified approach to generate list of outliers](https://blog.finxter.com/how-to-find-outliers-in-python-easily/)"
   ]
  },
  {
   "cell_type": "markdown",
   "metadata": {
    "id": "XdX3zqq_x0Kg"
   },
   "source": [
    "# **Preprocessing**\n",
    "\n",
    "This section should contain one or more markdown text with supporting code explaining how the dataset was processed before the analysis, including attributes removal, attributes enconding, and any transformations perfomed in the original dataset.\n"
   ]
  },
  {
   "cell_type": "markdown",
   "metadata": {
    "id": "XC0UlI_gx4Zj"
   },
   "source": [
    "## Specific Preprocessing:\n",
    "* Remove column 'type'\n",
    "    * This column only had one value across all records and would not offer meaningful progress towards classification\n",
    "* Remove columns 'id', 'uri', 'track_href', 'analysis_url', 'song_name', 'Unnamed: 0', 'title'\n",
    "    * Many of these are either unique identifiers or offer other meaning (such as locations on the web) that should not be used for classification purposes\n",
    "* Prepared data for use in Summary Statistics as well as boxplot generation through list comprehension and iteration"
   ]
  },
  {
   "cell_type": "code",
   "metadata": {
    "id": "SoOLyzsAx8Lk",
    "colab": {
     "base_uri": "https://localhost:8080/"
    },
    "outputId": "997c93d1-9f88-46e6-f7dc-9f83d99886d0"
   },
   "source": [
    "# Read in csv as pandas dataframe\n",
    "spotify_df = pd.read_csv('/content/drive/My Drive/genres_v2.csv')\n",
    "\n",
    "# Delete unnecessary columns\n",
    "spotify_df.drop(columns=['type', 'id', 'uri', 'track_href', 'analysis_url', 'time_signature', 'song_name', 'Unnamed: 0', 'title'], axis=1, inplace=True)\n",
    "\n",
    "# Capture column headers into a Python list\n",
    "col_headers = spotify_df.columns.to_list()\n",
    "attr_headers = col_headers[0:-1]\n",
    "\n",
    "# Capitalize genres, then sort dataframe by this column. Extract unique list of genres\n",
    "spotify_df['genre'] = spotify_df['genre'].map(lambda genre: genre.upper())\n",
    "genres_list = list(spotify_df['genre'].unique())\n",
    "genres_list.sort()\n",
    "spotify_df.sort_values('genre', inplace=True)\n",
    "\n",
    "# Convert data to NumPy Array and confirm genre sorting is still in place\n",
    "spotify_nparray = spotify_df.to_numpy()\n",
    "\n",
    "# Capture unique genres (mainly for indices)\n",
    "genres_nparray, indices = np.unique(spotify_nparray[:, -1], return_index=True)\n",
    "\n",
    "# Split large NumPy Array into sub-arrays by genre\n",
    "genres_nparray_list = np.array_split(spotify_nparray, indices)\n",
    "all_genres_nparrays_list = []\n",
    "for x in genres_nparray_list[1:]:\n",
    "  all_genres_nparrays_list.append(np.array(x))\n",
    "\n",
    "# Pivot genre sub-array for each attribute,\n",
    "# Append results to list of lists of values (attribute lists of genre lists of metric data)\n",
    "genre_attr_index = 0\n",
    "all_attribute_genre_data = [[ [] for _ in range(len(genres_list)) ] for _ in range (len(attr_headers)) ]\n",
    "\n",
    "# Generates transposed data for purposes of boxplot iteration\n",
    "for a in all_genres_nparrays_list:\n",
    "  attr_iter_index = 0 \n",
    "  metrics = all_genres_nparrays_list[genre_attr_index]\n",
    "  for row in metrics.transpose()[:-1]:\n",
    "    all_attribute_genre_data[attr_iter_index][genre_attr_index] = list(row)\n",
    "    attr_iter_index += 1\n",
    "  genre_attr_index += 1"
   ],
   "execution_count": null,
   "outputs": []
  },
  {
   "cell_type": "markdown",
   "metadata": {
    "id": "rmOwBKZSx9yM"
   },
   "source": [
    "# **Summary Statistics, Boxplots, and Histograms**\n",
    "\n",
    "this section should present the python code that displays summary statistics and visuals from each of the attributes of the dataset; at minimum, a histogram and a multi box plot (per genre) should be produce per attribute.\n"
   ]
  },
  {
   "cell_type": "markdown",
   "metadata": {
    "id": "nKekzgoWx_j_"
   },
   "source": [
    "## Summary Stats\n"
   ]
  },
  {
   "cell_type": "code",
   "metadata": {
    "id": "yAK1crTNyDo2",
    "colab": {
     "base_uri": "https://localhost:8080/",
     "height": 1000
    },
    "outputId": "1ed5585f-321d-49fb-fb02-9e54f93097e6"
   },
   "source": [
    "# Establish indices for iterating in summary statistic production\n",
    "col_index = 0\n",
    "genre_index = 0\n",
    "\n",
    "# Iterate through each genre set of attributes\n",
    "while genre_index < len(all_genres_nparrays_list):\n",
    "  print('\\n\\nSUMMARY STATISTICS FOR', genres_list[genre_index], '\\n')\n",
    "  current_genre_nparray = all_genres_nparrays_list[genre_index]\n",
    "  genre_outliers_tuple = []\n",
    "  \n",
    "  # For each attribute, calculate and output summary statistics\n",
    "  while col_index < (len(col_headers) - 1): #remove 1 for genres\n",
    "    temp_array = current_genre_nparray[:, col_index]\n",
    "    current_attribute = col_headers[col_index].upper()\n",
    "    print('*** Summary Statistics of Attribute: ' + current_attribute + ' ***')\n",
    "    attribute_min = '{:,.3f}'.format(np.min(temp_array))\n",
    "    attribute_max = '{:,.3f}'.format(np.max(temp_array))\n",
    "    print(f'{current_attribute} Range: [{attribute_min} , {attribute_max}]')\n",
    "    attribute_mean = '{:,.3f}'.format(np.mean(temp_array))\n",
    "    print(f'{current_attribute} Mean: {attribute_mean}')\n",
    "    attribute_median = '{:,.3f}'.format(np.median(temp_array))\n",
    "    print(f'{current_attribute} Median: {attribute_median}')\n",
    "    attribute_std = '{:,.3f}'.format(np.std(temp_array))\n",
    "    print(f'{current_attribute} StD: {attribute_std}')\n",
    "    col_index += 1\n",
    "  genre_index += 1\n",
    "  col_index = 0"
   ],
   "execution_count": null,
   "outputs": []
  },
  {
   "cell_type": "markdown",
   "metadata": {
    "id": "WKbVWPbLd2Sp"
   },
   "source": [
    "## Boxplots"
   ]
  },
  {
   "cell_type": "code",
   "metadata": {
    "colab": {
     "base_uri": "https://localhost:8080/",
     "height": 1000
    },
    "id": "6TtfwCfRdxg8",
    "outputId": "3628ae77-0a2c-4906-c89e-54877bf23697"
   },
   "source": [
    "# Iterate through prep'd attribute-genre 2d array of metrics and data for boxplots\n",
    "attr_str_index = 0\n",
    "for attribute_metrics in all_attribute_genre_metrics:\n",
    "  data = all_attribute_genre_data[attr_str_index]\n",
    "  print('data:', data)\n",
    "  medians = [ stats.median(branch) for branch in data ]\n",
    "  plt.boxplot(\n",
    "      data, vert=False\n",
    "  )\n",
    "  i = 0\n",
    "  branch_labels = []\n",
    "  for branch in data:\n",
    "    max_value = max(branch)\n",
    "    branch_labels.append(genres_list[i])\n",
    "    i += 1\n",
    "  axes = plt.gca()\n",
    "  axes.spines['right'].set_visible(False)\n",
    "  axes.spines['top'].set_visible(False)\n",
    "  axes.set_yticklabels(branch_labels)\n",
    "  plt.xlabel(attr_headers[attr_str_index])\n",
    "  plt.show()\n",
    "  attr_str_index += 1"
   ],
   "execution_count": null,
   "outputs": []
  },
  {
   "cell_type": "markdown",
   "metadata": {
    "id": "N2S8ZkuJeA7H"
   },
   "source": [
    "## Histograms"
   ]
  },
  {
   "cell_type": "code",
   "metadata": {
    "id": "ezfe17CmeDIQ"
   },
   "source": [
    "#TODO"
   ],
   "execution_count": null,
   "outputs": []
  },
  {
   "cell_type": "markdown",
   "metadata": {
    "id": "ciClPgoSyFeq"
   },
   "source": [
    "# **Correlation Analysis**\n",
    "\n",
    "do at least one correlation analysis, like comparing speechiness and instrumentalness, for example.\n"
   ]
  },
  {
   "cell_type": "markdown",
   "metadata": {
    "id": "OxXPUT3byGmw"
   },
   "source": [
    "## SECTION_HEADER_HERE"
   ]
  },
  {
   "cell_type": "code",
   "metadata": {
    "id": "T5ineHjEyJcF"
   },
   "source": [
    "# TODO:\n"
   ],
   "execution_count": null,
   "outputs": []
  },
  {
   "cell_type": "markdown",
   "metadata": {
    "id": "SgqSEIclyRBd"
   },
   "source": [
    "# **Classification**\n",
    "\n",
    "show the code and results of 3 classification models based on decision tree inference, naive Bayes classification, and artificial neural networks; each classification model should be based on a consistent split between training and testing datasets; the accuracy of each model should be displayed; any specific tunning parameter used in a model should be supported by an explanatory text.\n"
   ]
  },
  {
   "cell_type": "markdown",
   "metadata": {
    "id": "slPhdYEGySMK"
   },
   "source": [
    "## SECTION_HEADER_HERE"
   ]
  },
  {
   "cell_type": "code",
   "metadata": {
    "id": "LFBLfvddyTf3"
   },
   "source": [
    "#%%\n",
    "\n",
    "# TODO:"
   ],
   "execution_count": null,
   "outputs": []
  }
 ]
}